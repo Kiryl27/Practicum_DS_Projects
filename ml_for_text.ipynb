{
 "cells": [
  {
   "cell_type": "markdown",
   "metadata": {
    "toc": true
   },
   "source": [
    "<h1>Содержание<span class=\"tocSkip\"></span></h1>\n",
    "<div class=\"toc\"><ul class=\"toc-item\"><li><span><a href=\"#Подготовка\" data-toc-modified-id=\"Подготовка-1\"><span class=\"toc-item-num\">1&nbsp;&nbsp;</span>Подготовка</a></span></li><li><span><a href=\"#Обучение\" data-toc-modified-id=\"Обучение-2\"><span class=\"toc-item-num\">2&nbsp;&nbsp;</span>Обучение</a></span></li><li><span><a href=\"#Выводы\" data-toc-modified-id=\"Выводы-3\"><span class=\"toc-item-num\">3&nbsp;&nbsp;</span>Выводы</a></span></li><li><span><a href=\"#Чек-лист-проверки\" data-toc-modified-id=\"Чек-лист-проверки-4\"><span class=\"toc-item-num\">4&nbsp;&nbsp;</span>Чек-лист проверки</a></span></li></ul></div>"
   ]
  },
  {
   "cell_type": "markdown",
   "metadata": {},
   "source": [
    "# Проект для «Викишоп»"
   ]
  },
  {
   "cell_type": "markdown",
   "metadata": {},
   "source": [
    "Интернет-магазин «Викишоп» запускает новый сервис. Теперь пользователи могут редактировать и дополнять описания товаров, как в вики-сообществах. То есть клиенты предлагают свои правки и комментируют изменения других. Магазину нужен инструмент, который будет искать токсичные комментарии и отправлять их на модерацию. \n",
    "\n",
    "Обучите модель классифицировать комментарии на позитивные и негативные. В вашем распоряжении набор данных с разметкой о токсичности правок.\n",
    "\n",
    "Постройте модель со значением метрики качества *F1* не меньше 0.75. \n",
    "\n",
    "**Инструкция по выполнению проекта**\n",
    "\n",
    "1. Загрузите и подготовьте данные.\n",
    "2. Обучите разные модели. \n",
    "3. Сделайте выводы.\n",
    "\n",
    "Для выполнения проекта применять *BERT* необязательно, но вы можете попробовать.\n",
    "\n",
    "**Описание данных**\n",
    "\n",
    "Данные находятся в файле `toxic_comments.csv`. Столбец *text* в нём содержит текст комментария, а *toxic* — целевой признак."
   ]
  },
  {
   "cell_type": "markdown",
   "metadata": {},
   "source": [
    "## Подготовка"
   ]
  },
  {
   "cell_type": "code",
   "execution_count": 1,
   "metadata": {},
   "outputs": [
    {
     "name": "stderr",
     "output_type": "stream",
     "text": [
      "[nltk_data] Downloading package averaged_perceptron_tagger to\n",
      "[nltk_data]     /home/jovyan/nltk_data...\n",
      "[nltk_data]   Package averaged_perceptron_tagger is already up-to-\n",
      "[nltk_data]       date!\n"
     ]
    }
   ],
   "source": [
    "import pandas as pd\n",
    "import numpy as np\n",
    "import re\n",
    "import nltk\n",
    "import matplotlib.pyplot as plt\n",
    "from sklearn.pipeline import Pipeline\n",
    "from catboost import CatBoostClassifier\n",
    "from sklearn.tree import DecisionTreeClassifier\n",
    "from nltk.tokenize import word_tokenize \n",
    "from nltk.stem import WordNetLemmatizer \n",
    "from nltk.corpus import wordnet\n",
    "from sklearn.model_selection import train_test_split\n",
    "from sklearn.feature_extraction.text import TfidfVectorizer\n",
    "from sklearn.linear_model import LogisticRegression\n",
    "from sklearn.metrics import f1_score\n",
    "from nltk.corpus import stopwords \n",
    "from sklearn.model_selection import GridSearchCV\n",
    "import warnings\n",
    "import nltk\n",
    "nltk.download('averaged_perceptron_tagger')\n",
    "warnings.filterwarnings(\"ignore\")\n"
   ]
  },
  {
   "cell_type": "code",
   "execution_count": 2,
   "metadata": {},
   "outputs": [],
   "source": [
    "data = pd.read_csv('/datasets/toxic_comments.csv', index_col = 0)"
   ]
  },
  {
   "cell_type": "code",
   "execution_count": 3,
   "metadata": {},
   "outputs": [
    {
     "name": "stdout",
     "output_type": "stream",
     "text": [
      "<class 'pandas.core.frame.DataFrame'>\n",
      "Int64Index: 159292 entries, 0 to 159450\n",
      "Data columns (total 2 columns):\n",
      " #   Column  Non-Null Count   Dtype \n",
      "---  ------  --------------   ----- \n",
      " 0   text    159292 non-null  object\n",
      " 1   toxic   159292 non-null  int64 \n",
      "dtypes: int64(1), object(1)\n",
      "memory usage: 3.6+ MB\n"
     ]
    }
   ],
   "source": [
    "data.info()"
   ]
  },
  {
   "cell_type": "code",
   "execution_count": 4,
   "metadata": {},
   "outputs": [
    {
     "data": {
      "text/html": [
       "<div>\n",
       "<style scoped>\n",
       "    .dataframe tbody tr th:only-of-type {\n",
       "        vertical-align: middle;\n",
       "    }\n",
       "\n",
       "    .dataframe tbody tr th {\n",
       "        vertical-align: top;\n",
       "    }\n",
       "\n",
       "    .dataframe thead th {\n",
       "        text-align: right;\n",
       "    }\n",
       "</style>\n",
       "<table border=\"1\" class=\"dataframe\">\n",
       "  <thead>\n",
       "    <tr style=\"text-align: right;\">\n",
       "      <th></th>\n",
       "      <th>text</th>\n",
       "      <th>toxic</th>\n",
       "    </tr>\n",
       "  </thead>\n",
       "  <tbody>\n",
       "    <tr>\n",
       "      <th>0</th>\n",
       "      <td>Explanation\\nWhy the edits made under my usern...</td>\n",
       "      <td>0</td>\n",
       "    </tr>\n",
       "    <tr>\n",
       "      <th>1</th>\n",
       "      <td>D'aww! He matches this background colour I'm s...</td>\n",
       "      <td>0</td>\n",
       "    </tr>\n",
       "    <tr>\n",
       "      <th>2</th>\n",
       "      <td>Hey man, I'm really not trying to edit war. It...</td>\n",
       "      <td>0</td>\n",
       "    </tr>\n",
       "    <tr>\n",
       "      <th>3</th>\n",
       "      <td>\"\\nMore\\nI can't make any real suggestions on ...</td>\n",
       "      <td>0</td>\n",
       "    </tr>\n",
       "    <tr>\n",
       "      <th>4</th>\n",
       "      <td>You, sir, are my hero. Any chance you remember...</td>\n",
       "      <td>0</td>\n",
       "    </tr>\n",
       "  </tbody>\n",
       "</table>\n",
       "</div>"
      ],
      "text/plain": [
       "                                                text  toxic\n",
       "0  Explanation\\nWhy the edits made under my usern...      0\n",
       "1  D'aww! He matches this background colour I'm s...      0\n",
       "2  Hey man, I'm really not trying to edit war. It...      0\n",
       "3  \"\\nMore\\nI can't make any real suggestions on ...      0\n",
       "4  You, sir, are my hero. Any chance you remember...      0"
      ]
     },
     "execution_count": 4,
     "metadata": {},
     "output_type": "execute_result"
    }
   ],
   "source": [
    "data.head()"
   ]
  },
  {
   "cell_type": "code",
   "execution_count": 5,
   "metadata": {},
   "outputs": [
    {
     "data": {
      "text/plain": [
       "array([0, 1])"
      ]
     },
     "execution_count": 5,
     "metadata": {},
     "output_type": "execute_result"
    }
   ],
   "source": [
    "data['toxic'].unique()"
   ]
  },
  {
   "cell_type": "code",
   "execution_count": 6,
   "metadata": {},
   "outputs": [
    {
     "data": {
      "image/png": "[encoded data removed]",
      "text/plain": [
       "<Figure size 432x288 with 1 Axes>"
      ]
     },
     "metadata": {
      "needs_background": "light"
     },
     "output_type": "display_data"
    }
   ],
   "source": [
    "data['toxic'].hist();"
   ]
  },
  {
   "cell_type": "code",
   "execution_count": 7,
   "metadata": {},
   "outputs": [
    {
     "name": "stderr",
     "output_type": "stream",
     "text": [
      "[nltk_data] Downloading package stopwords to /home/jovyan/nltk_data...\n",
      "[nltk_data]   Package stopwords is already up-to-date!\n"
     ]
    },
    {
     "data": {
      "text/plain": [
       "True"
      ]
     },
     "execution_count": 7,
     "metadata": {},
     "output_type": "execute_result"
    }
   ],
   "source": [
    "nltk.download('stopwords') "
   ]
  },
  {
   "cell_type": "code",
   "execution_count": 8,
   "metadata": {},
   "outputs": [],
   "source": [
    "stop_words = set(stopwords.words('english'))"
   ]
  },
  {
   "cell_type": "code",
   "execution_count": 9,
   "metadata": {},
   "outputs": [],
   "source": [
    "lemmatizer = WordNetLemmatizer()"
   ]
  },
  {
   "cell_type": "markdown",
   "metadata": {},
   "source": [
    "\n",
    "<div class=\"alert alert-info\"> <b>Комментарии студентаV1:</b> Привет Марат!.\n",
    "Написал функцию, котрая преобразует POS-теги из формата nltk.pos_tag в формат, который понимает WordNetLemmatizer для правильной лемматизации.</div>"
   ]
  },
  {
   "cell_type": "code",
   "execution_count": 10,
   "metadata": {},
   "outputs": [],
   "source": [
    "def get_wordnet_pos(treebank_tag):\n",
    "    if treebank_tag.startswith('J'):\n",
    "        return wordnet.ADJ\n",
    "    elif treebank_tag.startswith('V'):\n",
    "        return wordnet.VERB\n",
    "    elif treebank_tag.startswith('N'):\n",
    "        return wordnet.NOUN\n",
    "    elif treebank_tag.startswith('R'):\n",
    "        return wordnet.ADV\n",
    "    else:\n",
    "        return wordnet.NOUN"
   ]
  },
  {
   "cell_type": "code",
   "execution_count": 11,
   "metadata": {},
   "outputs": [],
   "source": [
    "def predproc(text):\n",
    "    text = re.sub(r'[^a-zA-z ]', ' ', text)\n",
    "    text = text.lower()\n",
    "    tokens = nltk.word_tokenize(text)\n",
    "    tokens = [word for word in tokens if word not in stop_words]\n",
    "    pos_tags = nltk.pos_tag(tokens)\n",
    "    lemmatized = [lemmatizer.lemmatize(word, get_wordnet_pos(pos)) for word, pos in pos_tags]\n",
    "    return ' '.join(lemmatized)\n",
    "\n",
    "\n",
    "data['predproc'] = data['text'].apply(predproc)"
   ]
  },
  {
   "cell_type": "code",
   "execution_count": 12,
   "metadata": {},
   "outputs": [
    {
     "data": {
      "text/html": [
       "<div>\n",
       "<style scoped>\n",
       "    .dataframe tbody tr th:only-of-type {\n",
       "        vertical-align: middle;\n",
       "    }\n",
       "\n",
       "    .dataframe tbody tr th {\n",
       "        vertical-align: top;\n",
       "    }\n",
       "\n",
       "    .dataframe thead th {\n",
       "        text-align: right;\n",
       "    }\n",
       "</style>\n",
       "<table border=\"1\" class=\"dataframe\">\n",
       "  <thead>\n",
       "    <tr style=\"text-align: right;\">\n",
       "      <th></th>\n",
       "      <th>text</th>\n",
       "      <th>toxic</th>\n",
       "      <th>predproc</th>\n",
       "    </tr>\n",
       "  </thead>\n",
       "  <tbody>\n",
       "    <tr>\n",
       "      <th>0</th>\n",
       "      <td>Explanation\\nWhy the edits made under my usern...</td>\n",
       "      <td>0</td>\n",
       "      <td>explanation edits make username hardcore metal...</td>\n",
       "    </tr>\n",
       "    <tr>\n",
       "      <th>1</th>\n",
       "      <td>D'aww! He matches this background colour I'm s...</td>\n",
       "      <td>0</td>\n",
       "      <td>aww match background colour seemingly stuck th...</td>\n",
       "    </tr>\n",
       "    <tr>\n",
       "      <th>2</th>\n",
       "      <td>Hey man, I'm really not trying to edit war. It...</td>\n",
       "      <td>0</td>\n",
       "      <td>hey man really try edit war guy constantly rem...</td>\n",
       "    </tr>\n",
       "    <tr>\n",
       "      <th>3</th>\n",
       "      <td>\"\\nMore\\nI can't make any real suggestions on ...</td>\n",
       "      <td>0</td>\n",
       "      <td>make real suggestion improvement wonder sectio...</td>\n",
       "    </tr>\n",
       "    <tr>\n",
       "      <th>4</th>\n",
       "      <td>You, sir, are my hero. Any chance you remember...</td>\n",
       "      <td>0</td>\n",
       "      <td>sir hero chance remember page</td>\n",
       "    </tr>\n",
       "  </tbody>\n",
       "</table>\n",
       "</div>"
      ],
      "text/plain": [
       "                                                text  toxic  \\\n",
       "0  Explanation\\nWhy the edits made under my usern...      0   \n",
       "1  D'aww! He matches this background colour I'm s...      0   \n",
       "2  Hey man, I'm really not trying to edit war. It...      0   \n",
       "3  \"\\nMore\\nI can't make any real suggestions on ...      0   \n",
       "4  You, sir, are my hero. Any chance you remember...      0   \n",
       "\n",
       "                                            predproc  \n",
       "0  explanation edits make username hardcore metal...  \n",
       "1  aww match background colour seemingly stuck th...  \n",
       "2  hey man really try edit war guy constantly rem...  \n",
       "3  make real suggestion improvement wonder sectio...  \n",
       "4                      sir hero chance remember page  "
      ]
     },
     "execution_count": 12,
     "metadata": {},
     "output_type": "execute_result"
    }
   ],
   "source": [
    "data.head()"
   ]
  },
  {
   "cell_type": "code",
   "execution_count": 13,
   "metadata": {},
   "outputs": [],
   "source": [
    "df = data.copy()\n",
    "y = df['toxic']\n",
    "df = df.drop(['toxic'], axis = 1)"
   ]
  },
  {
   "cell_type": "code",
   "execution_count": 14,
   "metadata": {},
   "outputs": [],
   "source": [
    "x_train, x_test, y_train, y_test = train_test_split(df, y, test_size=0.3, stratify=y, random_state=42)"
   ]
  },
  {
   "cell_type": "code",
   "execution_count": 15,
   "metadata": {},
   "outputs": [
    {
     "name": "stdout",
     "output_type": "stream",
     "text": [
      "Train data shape: (111504, 2) (111504,)\n",
      "Test data shape: (47788, 2) (47788,)\n"
     ]
    }
   ],
   "source": [
    "print('Train data shape:', x_train.shape, y_train.shape)\n",
    "print('Test data shape:', x_test.shape, y_test.shape)"
   ]
  },
  {
   "cell_type": "markdown",
   "metadata": {},
   "source": [
    "Данные были предварительно обработаны: удалены лишние символы, проведена лемматизация и преобразование в векторное представление."
   ]
  },
  {
   "cell_type": "markdown",
   "metadata": {},
   "source": [
    "## Обучение"
   ]
  },
  {
   "cell_type": "code",
   "execution_count": 16,
   "metadata": {},
   "outputs": [],
   "source": [
    "def training(model, params):\n",
    "    pipeline = Pipeline([\n",
    "        ('tfidf', TfidfVectorizer(min_df = 1)),\n",
    "        ('model', model)])\n",
    "    grid = GridSearchCV(pipeline, cv = 5, n_jobs = -1, param_grid = params ,scoring = 'f1', verbose = False)\n",
    "    grid.fit(x_train['predproc'], y_train)\n",
    "    print('Лучший результат:', grid.best_score_)\n",
    "    print('Лучшие параметры:', grid.best_params_)\n",
    "    return grid\n"
   ]
  },
  {
   "cell_type": "code",
   "execution_count": 17,
   "metadata": {},
   "outputs": [
    {
     "name": "stdout",
     "output_type": "stream",
     "text": [
      "Лучший результат: 0.775700609170109\n",
      "Лучшие параметры: {'model__C': 10.0, 'model__penalty': 'l2'}\n"
     ]
    }
   ],
   "source": [
    "lr_mod = training(LogisticRegression(), {\"model__C\":[0.1, 1.0, 10.0], \"model__penalty\":[\"l2\"]})"
   ]
  },
  {
   "cell_type": "code",
   "execution_count": 18,
   "metadata": {},
   "outputs": [
    {
     "name": "stdout",
     "output_type": "stream",
     "text": [
      "Лучший результат: 0.5532851416422666\n",
      "Лучшие параметры: {'model__criterion': 'gini', 'model__max_depth': 6}\n"
     ]
    }
   ],
   "source": [
    "dtc_mod = training(DecisionTreeClassifier(random_state=42), {'model__criterion': ['gini', 'entropy'], 'model__max_depth': [2, 4, 6]})"
   ]
  },
  {
   "cell_type": "markdown",
   "metadata": {},
   "source": [
    "На тренировочной выборке лучший результат у LogisticRegression, поэтому протестируем её на тестовой выборке"
   ]
  },
  {
   "cell_type": "code",
   "execution_count": 19,
   "metadata": {},
   "outputs": [],
   "source": [
    "res = f1_score(y_test, lr_mod.predict(x_test['predproc']))"
   ]
  },
  {
   "cell_type": "code",
   "execution_count": 20,
   "metadata": {},
   "outputs": [
    {
     "name": "stdout",
     "output_type": "stream",
     "text": [
      "Результат LogisticRegression 0.7795438838977193\n"
     ]
    }
   ],
   "source": [
    "print(\"Результат LogisticRegression\", res)"
   ]
  },
  {
   "cell_type": "markdown",
   "metadata": {},
   "source": [
    "## Выводы"
   ]
  },
  {
   "cell_type": "markdown",
   "metadata": {},
   "source": [
    "В ходе работы данные были очищены от лишних символов, лемматизированы и преобразованы в векторный формат. Для решения задачи классификации были протестированы три модели: Logistic Regression, Decision Tree, с подбором гиперпараметров для каждой. Лучшую точность на обучающей выборке показала Logistic Regression, и она же дала самый высокий F1-результат на тестовой выборке. Это говорит о том, что именно эта модель лучше всего справилась с поставленной задачей."
   ]
  },
  {
   "cell_type": "markdown",
   "metadata": {},
   "source": [
    "## Чек-лист проверки"
   ]
  },
  {
   "cell_type": "markdown",
   "metadata": {},
   "source": [
    "- [x]  Jupyter Notebook открыт\n",
    "- [x]  Весь код выполняется без ошибок\n",
    "- [x]  Ячейки с кодом расположены в порядке исполнения\n",
    "- [x]  Данные загружены и подготовлены\n",
    "- [x]  Модели обучены\n",
    "- [x]  Значение метрики *F1* не меньше 0.75\n",
    "- [x]  Выводы написаны"
   ]
  }
 ],
 "metadata": {
  "ExecuteTimeLog": [
   {
    "duration": 1860,
    "start_time": "2025-05-25T19:23:32.524Z"
   },
   {
    "duration": 1190,
    "start_time": "2025-05-25T19:23:43.665Z"
   },
   {
    "duration": 33,
    "start_time": "2025-05-25T19:23:51.665Z"
   },
   {
    "duration": 11,
    "start_time": "2025-05-25T19:24:29.722Z"
   },
   {
    "duration": 5,
    "start_time": "2025-05-25T19:24:55.468Z"
   },
   {
    "duration": 141,
    "start_time": "2025-05-25T19:25:05.789Z"
   },
   {
    "duration": 233,
    "start_time": "2025-05-25T19:37:31.328Z"
   },
   {
    "duration": 6,
    "start_time": "2025-05-25T19:37:44.644Z"
   },
   {
    "duration": 3,
    "start_time": "2025-05-25T19:37:59.181Z"
   },
   {
    "duration": 71216,
    "start_time": "2025-05-25T19:38:23.972Z"
   },
   {
    "duration": 8,
    "start_time": "2025-05-25T19:41:55.775Z"
   },
   {
    "duration": 57,
    "start_time": "2025-05-25T19:42:22.729Z"
   },
   {
    "duration": 69,
    "start_time": "2025-05-25T19:42:33.341Z"
   },
   {
    "duration": 4,
    "start_time": "2025-05-25T19:42:42.689Z"
   },
   {
    "duration": 5,
    "start_time": "2025-05-25T19:44:10.767Z"
   },
   {
    "duration": 67818,
    "start_time": "2025-05-25T19:44:24.887Z"
   },
   {
    "duration": 1503,
    "start_time": "2025-05-25T19:45:40.197Z"
   },
   {
    "duration": 860,
    "start_time": "2025-05-25T19:45:41.701Z"
   },
   {
    "duration": 28,
    "start_time": "2025-05-25T19:45:42.563Z"
   },
   {
    "duration": 9,
    "start_time": "2025-05-25T19:45:42.592Z"
   },
   {
    "duration": 8,
    "start_time": "2025-05-25T19:45:42.603Z"
   },
   {
    "duration": 235,
    "start_time": "2025-05-25T19:45:42.612Z"
   },
   {
    "duration": 195,
    "start_time": "2025-05-25T19:45:42.848Z"
   },
   {
    "duration": 4,
    "start_time": "2025-05-25T19:45:43.045Z"
   },
   {
    "duration": 3,
    "start_time": "2025-05-25T19:45:43.050Z"
   },
   {
    "duration": 68542,
    "start_time": "2025-05-25T19:45:43.054Z"
   },
   {
    "duration": 8,
    "start_time": "2025-05-25T19:46:51.597Z"
   },
   {
    "duration": 61,
    "start_time": "2025-05-25T19:46:51.606Z"
   },
   {
    "duration": 66,
    "start_time": "2025-05-25T19:46:51.669Z"
   },
   {
    "duration": 100,
    "start_time": "2025-05-25T19:46:51.737Z"
   },
   {
    "duration": 10,
    "start_time": "2025-05-25T19:46:51.838Z"
   },
   {
    "duration": 596624,
    "start_time": "2025-05-25T19:46:51.849Z"
   },
   {
    "duration": 153080,
    "start_time": "2025-05-25T19:56:48.475Z"
   },
   {
    "duration": 1852357,
    "start_time": "2025-05-25T19:59:21.561Z"
   },
   {
    "duration": 0,
    "start_time": "2025-05-25T20:30:13.921Z"
   },
   {
    "duration": 0,
    "start_time": "2025-05-25T20:30:13.922Z"
   },
   {
    "duration": 1334,
    "start_time": "2025-05-25T20:30:20.452Z"
   },
   {
    "duration": 3,
    "start_time": "2025-05-25T20:30:25.402Z"
   },
   {
    "duration": 1557,
    "start_time": "2025-05-25T20:30:38.477Z"
   },
   {
    "duration": 896,
    "start_time": "2025-05-25T20:30:40.036Z"
   },
   {
    "duration": 36,
    "start_time": "2025-05-25T20:30:40.933Z"
   },
   {
    "duration": 10,
    "start_time": "2025-05-25T20:30:40.971Z"
   },
   {
    "duration": 5,
    "start_time": "2025-05-25T20:30:40.982Z"
   },
   {
    "duration": 252,
    "start_time": "2025-05-25T20:30:40.988Z"
   },
   {
    "duration": 206,
    "start_time": "2025-05-25T20:30:41.242Z"
   },
   {
    "duration": 4,
    "start_time": "2025-05-25T20:30:41.449Z"
   },
   {
    "duration": 73,
    "start_time": "2025-05-25T20:30:41.455Z"
   },
   {
    "duration": 2187,
    "start_time": "2025-05-26T09:00:46.270Z"
   },
   {
    "duration": 1564,
    "start_time": "2025-05-26T09:00:55.524Z"
   },
   {
    "duration": 836,
    "start_time": "2025-05-26T09:00:57.090Z"
   },
   {
    "duration": 28,
    "start_time": "2025-05-26T09:00:57.929Z"
   },
   {
    "duration": 9,
    "start_time": "2025-05-26T09:00:57.959Z"
   },
   {
    "duration": 5,
    "start_time": "2025-05-26T09:00:57.970Z"
   },
   {
    "duration": 232,
    "start_time": "2025-05-26T09:00:57.976Z"
   },
   {
    "duration": 263,
    "start_time": "2025-05-26T09:00:58.209Z"
   },
   {
    "duration": 4,
    "start_time": "2025-05-26T09:00:58.474Z"
   },
   {
    "duration": 9,
    "start_time": "2025-05-26T09:00:58.479Z"
   },
   {
    "duration": 67455,
    "start_time": "2025-05-26T09:00:58.489Z"
   },
   {
    "duration": 7,
    "start_time": "2025-05-26T09:02:05.946Z"
   },
   {
    "duration": 44,
    "start_time": "2025-05-26T09:02:05.955Z"
   },
   {
    "duration": 84,
    "start_time": "2025-05-26T09:02:06.001Z"
   },
   {
    "duration": 3,
    "start_time": "2025-05-26T09:02:06.088Z"
   },
   {
    "duration": 14,
    "start_time": "2025-05-26T09:02:06.093Z"
   },
   {
    "duration": 117474,
    "start_time": "2025-05-26T09:02:06.109Z"
   },
   {
    "duration": 0,
    "start_time": "2025-05-26T09:04:03.585Z"
   },
   {
    "duration": 0,
    "start_time": "2025-05-26T09:04:03.587Z"
   },
   {
    "duration": 0,
    "start_time": "2025-05-26T09:04:03.588Z"
   },
   {
    "duration": 1581,
    "start_time": "2025-05-26T09:04:08.997Z"
   },
   {
    "duration": 836,
    "start_time": "2025-05-26T09:04:10.579Z"
   },
   {
    "duration": 35,
    "start_time": "2025-05-26T09:04:11.416Z"
   },
   {
    "duration": 22,
    "start_time": "2025-05-26T09:04:11.452Z"
   },
   {
    "duration": 8,
    "start_time": "2025-05-26T09:04:11.476Z"
   },
   {
    "duration": 232,
    "start_time": "2025-05-26T09:04:11.486Z"
   },
   {
    "duration": 124,
    "start_time": "2025-05-26T09:04:11.720Z"
   },
   {
    "duration": 5,
    "start_time": "2025-05-26T09:04:11.845Z"
   },
   {
    "duration": 5,
    "start_time": "2025-05-26T09:04:11.851Z"
   },
   {
    "duration": 5,
    "start_time": "2025-05-26T09:04:11.857Z"
   },
   {
    "duration": 480,
    "start_time": "2025-05-26T09:04:11.863Z"
   },
   {
    "duration": 0,
    "start_time": "2025-05-26T09:04:12.345Z"
   },
   {
    "duration": 0,
    "start_time": "2025-05-26T09:04:12.346Z"
   },
   {
    "duration": 0,
    "start_time": "2025-05-26T09:04:12.348Z"
   },
   {
    "duration": 0,
    "start_time": "2025-05-26T09:04:12.349Z"
   },
   {
    "duration": 0,
    "start_time": "2025-05-26T09:04:12.350Z"
   },
   {
    "duration": 0,
    "start_time": "2025-05-26T09:04:12.351Z"
   },
   {
    "duration": 0,
    "start_time": "2025-05-26T09:04:12.353Z"
   },
   {
    "duration": 0,
    "start_time": "2025-05-26T09:04:12.354Z"
   },
   {
    "duration": 0,
    "start_time": "2025-05-26T09:04:12.355Z"
   },
   {
    "duration": 262,
    "start_time": "2025-05-26T09:05:37.214Z"
   },
   {
    "duration": 400,
    "start_time": "2025-05-26T09:06:28.448Z"
   },
   {
    "duration": 1660,
    "start_time": "2025-05-26T09:06:35.654Z"
   },
   {
    "duration": 821,
    "start_time": "2025-05-26T09:06:37.316Z"
   },
   {
    "duration": 30,
    "start_time": "2025-05-26T09:06:38.138Z"
   },
   {
    "duration": 94,
    "start_time": "2025-05-26T09:06:38.170Z"
   },
   {
    "duration": 4,
    "start_time": "2025-05-26T09:06:38.266Z"
   },
   {
    "duration": 243,
    "start_time": "2025-05-26T09:06:38.272Z"
   },
   {
    "duration": 5,
    "start_time": "2025-05-26T09:06:38.517Z"
   },
   {
    "duration": 21,
    "start_time": "2025-05-26T09:06:38.523Z"
   },
   {
    "duration": 12,
    "start_time": "2025-05-26T09:06:38.545Z"
   },
   {
    "duration": 22,
    "start_time": "2025-05-26T09:06:38.559Z"
   },
   {
    "duration": 361386,
    "start_time": "2025-05-26T09:06:38.583Z"
   },
   {
    "duration": 6,
    "start_time": "2025-05-26T09:12:39.971Z"
   },
   {
    "duration": 53,
    "start_time": "2025-05-26T09:12:39.979Z"
   },
   {
    "duration": 62,
    "start_time": "2025-05-26T09:12:40.038Z"
   },
   {
    "duration": 3,
    "start_time": "2025-05-26T09:12:40.102Z"
   },
   {
    "duration": 36,
    "start_time": "2025-05-26T09:12:40.107Z"
   },
   {
    "duration": 577405,
    "start_time": "2025-05-26T09:12:40.145Z"
   },
   {
    "duration": 1646,
    "start_time": "2025-05-26T09:22:39.394Z"
   },
   {
    "duration": 855,
    "start_time": "2025-05-26T09:22:41.042Z"
   },
   {
    "duration": 37,
    "start_time": "2025-05-26T09:22:41.899Z"
   },
   {
    "duration": 86,
    "start_time": "2025-05-26T09:22:41.938Z"
   },
   {
    "duration": 5,
    "start_time": "2025-05-26T09:22:42.038Z"
   },
   {
    "duration": 154,
    "start_time": "2025-05-26T09:22:42.045Z"
   },
   {
    "duration": 7,
    "start_time": "2025-05-26T09:22:42.201Z"
   },
   {
    "duration": 15,
    "start_time": "2025-05-26T09:22:42.210Z"
   },
   {
    "duration": 27,
    "start_time": "2025-05-26T09:22:42.227Z"
   },
   {
    "duration": 38,
    "start_time": "2025-05-26T09:22:42.257Z"
   },
   {
    "duration": 360695,
    "start_time": "2025-05-26T09:22:42.297Z"
   },
   {
    "duration": 7,
    "start_time": "2025-05-26T09:28:42.994Z"
   },
   {
    "duration": 49,
    "start_time": "2025-05-26T09:28:43.003Z"
   },
   {
    "duration": 64,
    "start_time": "2025-05-26T09:28:43.055Z"
   },
   {
    "duration": 16,
    "start_time": "2025-05-26T09:28:43.121Z"
   },
   {
    "duration": 18,
    "start_time": "2025-05-26T09:28:43.138Z"
   },
   {
    "duration": 558186,
    "start_time": "2025-05-26T09:28:43.158Z"
   },
   {
    "duration": 143615,
    "start_time": "2025-05-26T09:38:01.437Z"
   },
   {
    "duration": 1257,
    "start_time": "2025-05-26T09:40:25.055Z"
   },
   {
    "duration": 4,
    "start_time": "2025-05-26T09:40:26.313Z"
   }
  ],
  "kernelspec": {
   "display_name": "Python 3 (ipykernel)",
   "language": "python",
   "name": "python3"
  },
  "language_info": {
   "codemirror_mode": {
    "name": "ipython",
    "version": 3
   },
   "file_extension": ".py",
   "mimetype": "text/x-python",
   "name": "python",
   "nbconvert_exporter": "python",
   "pygments_lexer": "ipython3",
   "version": "3.9.5"
  },
  "toc": {
   "base_numbering": 1,
   "nav_menu": {},
   "number_sections": true,
   "sideBar": true,
   "skip_h1_title": true,
   "title_cell": "Содержание",
   "title_sidebar": "Contents",
   "toc_cell": true,
   "toc_position": {
    "height": "calc(100% - 180px)",
    "left": "10px",
    "top": "150px",
    "width": "302.391px"
   },
   "toc_section_display": true,
   "toc_window_display": false
  }
 },
 "nbformat": 4,
 "nbformat_minor": 2
}
