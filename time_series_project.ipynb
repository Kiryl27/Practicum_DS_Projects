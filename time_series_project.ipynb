{
 "cells": [
  {
   "cell_type": "markdown",
   "metadata": {
    "toc": true
   },
   "source": [
    "<h1>Содержание<span class=\"tocSkip\"></span></h1>\n",
    "<div class=\"toc\"><ul class=\"toc-item\"><li><span><a href=\"#Подготовка\" data-toc-modified-id=\"Подготовка-1\"><span class=\"toc-item-num\">1&nbsp;&nbsp;</span>Подготовка</a></span><ul class=\"toc-item\"><li><span><a href=\"#Импортируем-необходимые-библиотеки\" data-toc-modified-id=\"Импортируем-необходимые-библиотеки-1.1\"><span class=\"toc-item-num\">1.1&nbsp;&nbsp;</span>Импортируем необходимые библиотеки</a></span></li><li><span><a href=\"#Предобработка-данных\" data-toc-modified-id=\"Предобработка-данных-1.2\"><span class=\"toc-item-num\">1.2&nbsp;&nbsp;</span>Предобработка данных</a></span></li></ul></li><li><span><a href=\"#Анализ\" data-toc-modified-id=\"Анализ-2\"><span class=\"toc-item-num\">2&nbsp;&nbsp;</span>Анализ</a></span></li><li><span><a href=\"#Обучение\" data-toc-modified-id=\"Обучение-3\"><span class=\"toc-item-num\">3&nbsp;&nbsp;</span>Обучение</a></span><ul class=\"toc-item\"><li><span><a href=\"#Подготовка-признаков\" data-toc-modified-id=\"Подготовка-признаков-3.1\"><span class=\"toc-item-num\">3.1&nbsp;&nbsp;</span>Подготовка признаков</a></span></li><li><span><a href=\"#Обучение-моделей\" data-toc-modified-id=\"Обучение-моделей-3.2\"><span class=\"toc-item-num\">3.2&nbsp;&nbsp;</span>Обучение моделей</a></span><ul class=\"toc-item\"><li><span><a href=\"#Линейная-регрессия\" data-toc-modified-id=\"Линейная-регрессия-3.2.1\"><span class=\"toc-item-num\">3.2.1&nbsp;&nbsp;</span>Линейная регрессия</a></span></li><li><span><a href=\"#RandomForestRegressor\" data-toc-modified-id=\"RandomForestRegressor-3.2.2\"><span class=\"toc-item-num\">3.2.2&nbsp;&nbsp;</span>RandomForestRegressor</a></span></li><li><span><a href=\"#CatBoost\" data-toc-modified-id=\"CatBoost-3.2.3\"><span class=\"toc-item-num\">3.2.3&nbsp;&nbsp;</span>CatBoost</a></span></li></ul></li><li><span><a href=\"#Результаты\" data-toc-modified-id=\"Результаты-3.3\"><span class=\"toc-item-num\">3.3&nbsp;&nbsp;</span>Результаты</a></span></li></ul></li><li><span><a href=\"#Тестирование\" data-toc-modified-id=\"Тестирование-4\"><span class=\"toc-item-num\">4&nbsp;&nbsp;</span>Тестирование</a></span></li><li><span><a href=\"#Чек-лист-проверки\" data-toc-modified-id=\"Чек-лист-проверки-5\"><span class=\"toc-item-num\">5&nbsp;&nbsp;</span>Чек-лист проверки</a></span></li></ul></div>"
   ]
  },
  {
   "cell_type": "markdown",
   "metadata": {},
   "source": [
    "#  Прогнозирование заказов такси"
   ]
  },
  {
   "cell_type": "markdown",
   "metadata": {},
   "source": [
    "Компания «Чётенькое такси» собрала исторические данные о заказах такси в аэропортах. Чтобы привлекать больше водителей в период пиковой нагрузки, нужно спрогнозировать количество заказов такси на следующий час. Постройте модель для такого предсказания.\n",
    "\n",
    "Значение метрики *RMSE* на тестовой выборке должно быть не больше 48.\n",
    "\n",
    "Вам нужно:\n",
    "\n",
    "1. Загрузить данные и выполнить их ресемплирование по одному часу.\n",
    "2. Проанализировать данные.\n",
    "3. Обучить разные модели с различными гиперпараметрами. Сделать тестовую выборку размером 10% от исходных данных.\n",
    "4. Проверить данные на тестовой выборке и сделать выводы.\n",
    "\n",
    "\n",
    "Данные лежат в файле `taxi.csv`. Количество заказов находится в столбце `num_orders` (от англ. *number of orders*, «число заказов»)."
   ]
  },
  {
   "cell_type": "markdown",
   "metadata": {},
   "source": [
    "## Подготовка"
   ]
  },
  {
   "cell_type": "markdown",
   "metadata": {},
   "source": [
    "### Импортируем необходимые библиотеки"
   ]
  },
  {
   "cell_type": "code",
   "execution_count": 1,
   "metadata": {},
   "outputs": [],
   "source": [
    "import pandas as pd\n",
    "import seaborn as sns\n",
    "from matplotlib import pyplot as plt\n",
    "from statsmodels.tsa.seasonal import seasonal_decompose\n",
    "from sklearn.linear_model import Ridge, Lasso\n",
    "from sklearn.model_selection import train_test_split\n",
    "from sklearn.metrics import mean_squared_error\n",
    "from sklearn.linear_model import LinearRegression\n",
    "from sklearn.tree import DecisionTreeRegressor\n",
    "from sklearn.ensemble import RandomForestRegressor\n",
    "from sklearn.model_selection import GridSearchCV\n",
    "from catboost import CatBoostRegressor\n",
    "from sklearn.model_selection import TimeSeriesSplit, GridSearchCV\n",
    "import lightgbm as lgb\n",
    "import numpy as np"
   ]
  },
  {
   "cell_type": "markdown",
   "metadata": {},
   "source": [
    "### Предобработка данных"
   ]
  },
  {
   "cell_type": "code",
   "execution_count": 2,
   "metadata": {},
   "outputs": [],
   "source": [
    "df = pd.read_csv('/datasets/taxi.csv', index_col=[0], parse_dates=[0])"
   ]
  },
  {
   "cell_type": "code",
   "execution_count": 3,
   "metadata": {},
   "outputs": [
    {
     "data": {
      "text/html": [
       "<div>\n",
       "<style scoped>\n",
       "    .dataframe tbody tr th:only-of-type {\n",
       "        vertical-align: middle;\n",
       "    }\n",
       "\n",
       "    .dataframe tbody tr th {\n",
       "        vertical-align: top;\n",
       "    }\n",
       "\n",
       "    .dataframe thead th {\n",
       "        text-align: right;\n",
       "    }\n",
       "</style>\n",
       "<table border=\"1\" class=\"dataframe\">\n",
       "  <thead>\n",
       "    <tr style=\"text-align: right;\">\n",
       "      <th></th>\n",
       "      <th>num_orders</th>\n",
       "    </tr>\n",
       "    <tr>\n",
       "      <th>datetime</th>\n",
       "      <th></th>\n",
       "    </tr>\n",
       "  </thead>\n",
       "  <tbody>\n",
       "    <tr>\n",
       "      <th>2018-03-01 00:00:00</th>\n",
       "      <td>9</td>\n",
       "    </tr>\n",
       "    <tr>\n",
       "      <th>2018-03-01 00:10:00</th>\n",
       "      <td>14</td>\n",
       "    </tr>\n",
       "    <tr>\n",
       "      <th>2018-03-01 00:20:00</th>\n",
       "      <td>28</td>\n",
       "    </tr>\n",
       "    <tr>\n",
       "      <th>2018-03-01 00:30:00</th>\n",
       "      <td>20</td>\n",
       "    </tr>\n",
       "    <tr>\n",
       "      <th>2018-03-01 00:40:00</th>\n",
       "      <td>32</td>\n",
       "    </tr>\n",
       "  </tbody>\n",
       "</table>\n",
       "</div>"
      ],
      "text/plain": [
       "                     num_orders\n",
       "datetime                       \n",
       "2018-03-01 00:00:00           9\n",
       "2018-03-01 00:10:00          14\n",
       "2018-03-01 00:20:00          28\n",
       "2018-03-01 00:30:00          20\n",
       "2018-03-01 00:40:00          32"
      ]
     },
     "execution_count": 3,
     "metadata": {},
     "output_type": "execute_result"
    }
   ],
   "source": [
    "df.head()"
   ]
  },
  {
   "cell_type": "code",
   "execution_count": 4,
   "metadata": {},
   "outputs": [
    {
     "name": "stdout",
     "output_type": "stream",
     "text": [
      "<class 'pandas.core.frame.DataFrame'>\n",
      "DatetimeIndex: 26496 entries, 2018-03-01 00:00:00 to 2018-08-31 23:50:00\n",
      "Data columns (total 1 columns):\n",
      " #   Column      Non-Null Count  Dtype\n",
      "---  ------      --------------  -----\n",
      " 0   num_orders  26496 non-null  int64\n",
      "dtypes: int64(1)\n",
      "memory usage: 414.0 KB\n"
     ]
    }
   ],
   "source": [
    "df.info()"
   ]
  },
  {
   "cell_type": "code",
   "execution_count": 5,
   "metadata": {},
   "outputs": [
    {
     "data": {
      "text/plain": [
       "True"
      ]
     },
     "execution_count": 5,
     "metadata": {},
     "output_type": "execute_result"
    }
   ],
   "source": [
    "df.index.is_monotonic"
   ]
  },
  {
   "cell_type": "code",
   "execution_count": 6,
   "metadata": {},
   "outputs": [
    {
     "name": "stdout",
     "output_type": "stream",
     "text": [
      "         num_orders\n",
      "count  26496.000000\n",
      "mean      14.070463\n",
      "std        9.211330\n",
      "min        0.000000\n",
      "25%        8.000000\n",
      "50%       13.000000\n",
      "75%       19.000000\n",
      "max      119.000000\n"
     ]
    }
   ],
   "source": [
    "print(df.describe())"
   ]
  },
  {
   "cell_type": "code",
   "execution_count": 7,
   "metadata": {},
   "outputs": [
    {
     "name": "stdout",
     "output_type": "stream",
     "text": [
      "count                   26496\n",
      "unique                  26496\n",
      "top       2018-03-09 22:10:00\n",
      "freq                        1\n",
      "first     2018-03-01 00:00:00\n",
      "last      2018-08-31 23:50:00\n",
      "Name: datetime, dtype: object\n"
     ]
    },
    {
     "name": "stderr",
     "output_type": "stream",
     "text": [
      "/tmp/ipykernel_557/2055718062.py:1: FutureWarning: Treating datetime data as categorical rather than numeric in `.describe` is deprecated and will be removed in a future version of pandas. Specify `datetime_is_numeric=True` to silence this warning and adopt the future behavior now.\n",
      "  print(pd.Series(df.index).describe())\n"
     ]
    }
   ],
   "source": [
    "print(pd.Series(df.index).describe())"
   ]
  },
  {
   "cell_type": "markdown",
   "metadata": {},
   "source": [
    "Заметим, что пропусков в данных нет , типы данных совпадают с описанием, индекс постоянно возрастает , даты распределены между мартом - августом 2018 года ,  промежуток составляет 10 минут. Ресемплируем промежуток до 1 часа "
   ]
  },
  {
   "cell_type": "code",
   "execution_count": 8,
   "metadata": {},
   "outputs": [],
   "source": [
    "df = df.resample('1H').sum()"
   ]
  },
  {
   "cell_type": "code",
   "execution_count": 9,
   "metadata": {},
   "outputs": [
    {
     "data": {
      "text/html": [
       "<div>\n",
       "<style scoped>\n",
       "    .dataframe tbody tr th:only-of-type {\n",
       "        vertical-align: middle;\n",
       "    }\n",
       "\n",
       "    .dataframe tbody tr th {\n",
       "        vertical-align: top;\n",
       "    }\n",
       "\n",
       "    .dataframe thead th {\n",
       "        text-align: right;\n",
       "    }\n",
       "</style>\n",
       "<table border=\"1\" class=\"dataframe\">\n",
       "  <thead>\n",
       "    <tr style=\"text-align: right;\">\n",
       "      <th></th>\n",
       "      <th>num_orders</th>\n",
       "    </tr>\n",
       "    <tr>\n",
       "      <th>datetime</th>\n",
       "      <th></th>\n",
       "    </tr>\n",
       "  </thead>\n",
       "  <tbody>\n",
       "    <tr>\n",
       "      <th>2018-03-01 00:00:00</th>\n",
       "      <td>124</td>\n",
       "    </tr>\n",
       "    <tr>\n",
       "      <th>2018-03-01 01:00:00</th>\n",
       "      <td>85</td>\n",
       "    </tr>\n",
       "    <tr>\n",
       "      <th>2018-03-01 02:00:00</th>\n",
       "      <td>71</td>\n",
       "    </tr>\n",
       "    <tr>\n",
       "      <th>2018-03-01 03:00:00</th>\n",
       "      <td>66</td>\n",
       "    </tr>\n",
       "    <tr>\n",
       "      <th>2018-03-01 04:00:00</th>\n",
       "      <td>43</td>\n",
       "    </tr>\n",
       "  </tbody>\n",
       "</table>\n",
       "</div>"
      ],
      "text/plain": [
       "                     num_orders\n",
       "datetime                       \n",
       "2018-03-01 00:00:00         124\n",
       "2018-03-01 01:00:00          85\n",
       "2018-03-01 02:00:00          71\n",
       "2018-03-01 03:00:00          66\n",
       "2018-03-01 04:00:00          43"
      ]
     },
     "execution_count": 9,
     "metadata": {},
     "output_type": "execute_result"
    }
   ],
   "source": [
    "df.head()"
   ]
  },
  {
   "cell_type": "markdown",
   "metadata": {},
   "source": [
    "## Анализ"
   ]
  },
  {
   "cell_type": "code",
   "execution_count": 10,
   "metadata": {},
   "outputs": [],
   "source": [
    "sns.set(rc={'figure.figsize':(15,4)})\n",
    "\n",
    "def lineplot(data, title):\n",
    "    data.plot()\n",
    "    plt.title(title)\n",
    "    plt.show()"
   ]
  },
  {
   "cell_type": "markdown",
   "metadata": {},
   "source": [
    "Разделим данные на трендовую, сезонную и шумовую состовляющие и построим соответствующие графики"
   ]
  },
  {
   "cell_type": "code",
   "execution_count": 11,
   "metadata": {},
   "outputs": [],
   "source": [
    "decomposed = seasonal_decompose(df)"
   ]
  },
  {
   "cell_type": "code",
   "execution_count": 12,
   "metadata": {},
   "outputs": [
    {
     "data": {
      "image/png": "[encoded data removed]",
      "text/plain": [
       "<Figure size 1080x288 with 1 Axes>"
      ]
     },
     "metadata": {},
     "output_type": "display_data"
    }
   ],
   "source": [
    "lineplot(decomposed.trend, 'Тренд')"
   ]
  },
  {
   "cell_type": "code",
   "execution_count": 13,
   "metadata": {},
   "outputs": [
    {
     "data": {
      "image/png": "[encoded data removed]",
      "text/plain": [
       "<Figure size 1080x288 with 1 Axes>"
      ]
     },
     "metadata": {},
     "output_type": "display_data"
    }
   ],
   "source": [
    "lineplot(decomposed.trend.rolling(24*7).mean(), 'Тренд (сглаженный)')"
   ]
  },
  {
   "cell_type": "markdown",
   "metadata": {},
   "source": [
    "Наблюдаем тренд равномерного роста заказов с периодическими небольшими падениями. Количество заказов возрастает от весны к лету"
   ]
  },
  {
   "cell_type": "code",
   "execution_count": 14,
   "metadata": {},
   "outputs": [
    {
     "data": {
      "image/png": "[encoded data removed]",
      "text/plain": [
       "<Figure size 1080x288 with 1 Axes>"
      ]
     },
     "metadata": {},
     "output_type": "display_data"
    }
   ],
   "source": [
    "lineplot(decomposed.seasonal.tail(24*7), 'Сезонность')\n"
   ]
  },
  {
   "cell_type": "markdown",
   "metadata": {},
   "source": [
    "Заметим, что присутствует сезонность по дням - спад ночью, рост с утра и днем, пик к вечеру"
   ]
  },
  {
   "cell_type": "code",
   "execution_count": 15,
   "metadata": {},
   "outputs": [
    {
     "data": {
      "image/png": "[encoded data removed]",
      "text/plain": [
       "<Figure size 1080x288 with 1 Axes>"
      ]
     },
     "metadata": {},
     "output_type": "display_data"
    }
   ],
   "source": [
    "lineplot(decomposed.resid, 'Шумы')"
   ]
  },
  {
   "cell_type": "code",
   "execution_count": 16,
   "metadata": {},
   "outputs": [],
   "source": [
    "df_daily = df.copy()\n",
    "df_daily = df_daily.resample('1D').sum()"
   ]
  },
  {
   "cell_type": "code",
   "execution_count": 17,
   "metadata": {},
   "outputs": [],
   "source": [
    "decomposed_daily = seasonal_decompose(df_daily)"
   ]
  },
  {
   "cell_type": "code",
   "execution_count": 18,
   "metadata": {},
   "outputs": [
    {
     "data": {
      "image/png": "[encoded data removed]",
      "text/plain": [
       "<Figure size 1080x288 with 1 Axes>"
      ]
     },
     "metadata": {},
     "output_type": "display_data"
    }
   ],
   "source": [
    "lineplot(decomposed_daily.trend, 'Тренд')"
   ]
  },
  {
   "cell_type": "code",
   "execution_count": 19,
   "metadata": {},
   "outputs": [
    {
     "data": {
      "image/png": "[encoded data removed]",
      "text/plain": [
       "<Figure size 1080x288 with 1 Axes>"
      ]
     },
     "metadata": {},
     "output_type": "display_data"
    }
   ],
   "source": [
    "lineplot(decomposed_daily.trend.rolling(7).mean(), 'Тренд (сглаженный)')"
   ]
  },
  {
   "cell_type": "code",
   "execution_count": 20,
   "metadata": {},
   "outputs": [
    {
     "data": {
      "image/png": "[encoded data removed]",
      "text/plain": [
       "<Figure size 864x432 with 1 Axes>"
      ]
     },
     "metadata": {},
     "output_type": "display_data"
    }
   ],
   "source": [
    "seasonality = decomposed_daily.seasonal.tail(7 * 5)\n",
    "day_nums = seasonality.index.dayofweek \n",
    "plt.figure(figsize=(12, 6))\n",
    "plt.plot(seasonality.values)\n",
    "plt.title('Сезонность (числа от 0 до 6 = дни недели)')\n",
    "plt.xticks(ticks=range(len(day_nums)), labels=day_nums)\n",
    "plt.xlabel('День недели (0 = Пн, 6 = Вс)')\n",
    "plt.grid(True)\n",
    "plt.tight_layout()\n",
    "plt.show()"
   ]
  },
  {
   "cell_type": "markdown",
   "metadata": {},
   "source": [
    "Заметим, что наблюдается следующая недельная сезонность : пик заказов достигается в понедельник, а падает во вторник, далее  со среды по пятницу количество заказов увеличивается, достигая пика в пятницу, в выходные спрос заметно уменьшается "
   ]
  },
  {
   "cell_type": "code",
   "execution_count": 21,
   "metadata": {},
   "outputs": [
    {
     "data": {
      "image/png": "[encoded data removed]",
      "text/plain": [
       "<Figure size 1080x288 with 1 Axes>"
      ]
     },
     "metadata": {},
     "output_type": "display_data"
    }
   ],
   "source": [
    "lineplot(decomposed_daily.resid, 'Шумы')"
   ]
  },
  {
   "cell_type": "markdown",
   "metadata": {},
   "source": [
    "## Обучение"
   ]
  },
  {
   "cell_type": "markdown",
   "metadata": {},
   "source": [
    "### Подготовка признаков"
   ]
  },
  {
   "cell_type": "markdown",
   "metadata": {},
   "source": [
    "Создадим признаки для горизонта прогнозирования в один шаг"
   ]
  },
  {
   "cell_type": "code",
   "execution_count": 22,
   "metadata": {},
   "outputs": [],
   "source": [
    "def get_features(df_learning):\n",
    "    df_learning['day'] = df_learning.index.day\n",
    "    df_learning['dayofweek'] = df_learning.index.dayofweek\n",
    "    df_learning['hour'] = df_learning.index.hour\n",
    "    \n",
    "    for lag in (1,2,3,23,24,25,167,168,169):\n",
    "        df_learning['lag_{}'.format(lag)] = df_learning['num_orders'].shift(lag)\n",
    "    \n",
    "    df_learning['rolling_mean'] = df_learning['num_orders'].shift().rolling(12).mean()\n",
    "    df_learning.dropna(inplace=True)\n",
    "    \n",
    "    return df_learning"
   ]
  },
  {
   "cell_type": "code",
   "execution_count": 23,
   "metadata": {},
   "outputs": [
    {
     "data": {
      "image/png": "[encoded data removed]",
      "text/plain": [
       "<Figure size 1332x432 with 1 Axes>"
      ]
     },
     "metadata": {},
     "output_type": "display_data"
    }
   ],
   "source": [
    "\n",
    "# Код ревьюера\n",
    "from statsmodels.graphics import tsaplots\n",
    "\n",
    "taxi = pd.read_csv(\"/datasets/taxi.csv\", index_col=[0], parse_dates=[0]).resample('1H').sum()\n",
    "ts = taxi['num_orders']\n",
    "\n",
    "fig = tsaplots.plot_acf(ts,lags= 190)\n",
    "fig.set_size_inches(18.5, 6)\n",
    "plt.ylim(-.1, 1.1)\n",
    "plt.show() \n"
   ]
  },
  {
   "cell_type": "code",
   "execution_count": 24,
   "metadata": {},
   "outputs": [],
   "source": [
    "df_learning = df.copy()\n",
    "df_learning = get_features(df_learning)"
   ]
  },
  {
   "cell_type": "code",
   "execution_count": 25,
   "metadata": {},
   "outputs": [
    {
     "data": {
      "text/plain": [
       "(4416, 1)"
      ]
     },
     "execution_count": 25,
     "metadata": {},
     "output_type": "execute_result"
    }
   ],
   "source": [
    "df.shape"
   ]
  },
  {
   "cell_type": "code",
   "execution_count": 26,
   "metadata": {},
   "outputs": [
    {
     "data": {
      "text/plain": [
       "(4247, 14)"
      ]
     },
     "execution_count": 26,
     "metadata": {},
     "output_type": "execute_result"
    }
   ],
   "source": [
    "df_learning.shape"
   ]
  },
  {
   "cell_type": "code",
   "execution_count": 27,
   "metadata": {},
   "outputs": [
    {
     "data": {
      "text/html": [
       "<div>\n",
       "<style scoped>\n",
       "    .dataframe tbody tr th:only-of-type {\n",
       "        vertical-align: middle;\n",
       "    }\n",
       "\n",
       "    .dataframe tbody tr th {\n",
       "        vertical-align: top;\n",
       "    }\n",
       "\n",
       "    .dataframe thead th {\n",
       "        text-align: right;\n",
       "    }\n",
       "</style>\n",
       "<table border=\"1\" class=\"dataframe\">\n",
       "  <thead>\n",
       "    <tr style=\"text-align: right;\">\n",
       "      <th></th>\n",
       "      <th>num_orders</th>\n",
       "      <th>day</th>\n",
       "      <th>dayofweek</th>\n",
       "      <th>hour</th>\n",
       "      <th>lag_1</th>\n",
       "      <th>lag_2</th>\n",
       "      <th>lag_3</th>\n",
       "      <th>lag_23</th>\n",
       "      <th>lag_24</th>\n",
       "      <th>lag_25</th>\n",
       "      <th>lag_167</th>\n",
       "      <th>lag_168</th>\n",
       "      <th>lag_169</th>\n",
       "      <th>rolling_mean</th>\n",
       "    </tr>\n",
       "    <tr>\n",
       "      <th>datetime</th>\n",
       "      <th></th>\n",
       "      <th></th>\n",
       "      <th></th>\n",
       "      <th></th>\n",
       "      <th></th>\n",
       "      <th></th>\n",
       "      <th></th>\n",
       "      <th></th>\n",
       "      <th></th>\n",
       "      <th></th>\n",
       "      <th></th>\n",
       "      <th></th>\n",
       "      <th></th>\n",
       "      <th></th>\n",
       "    </tr>\n",
       "  </thead>\n",
       "  <tbody>\n",
       "    <tr>\n",
       "      <th>2018-03-08 01:00:00</th>\n",
       "      <td>78</td>\n",
       "      <td>8</td>\n",
       "      <td>3</td>\n",
       "      <td>1</td>\n",
       "      <td>143.0</td>\n",
       "      <td>94.0</td>\n",
       "      <td>127.0</td>\n",
       "      <td>24.0</td>\n",
       "      <td>121.0</td>\n",
       "      <td>100.0</td>\n",
       "      <td>71.0</td>\n",
       "      <td>85.0</td>\n",
       "      <td>124.0</td>\n",
       "      <td>78.333333</td>\n",
       "    </tr>\n",
       "    <tr>\n",
       "      <th>2018-03-08 02:00:00</th>\n",
       "      <td>65</td>\n",
       "      <td>8</td>\n",
       "      <td>3</td>\n",
       "      <td>2</td>\n",
       "      <td>78.0</td>\n",
       "      <td>143.0</td>\n",
       "      <td>94.0</td>\n",
       "      <td>66.0</td>\n",
       "      <td>24.0</td>\n",
       "      <td>121.0</td>\n",
       "      <td>66.0</td>\n",
       "      <td>71.0</td>\n",
       "      <td>85.0</td>\n",
       "      <td>80.250000</td>\n",
       "    </tr>\n",
       "    <tr>\n",
       "      <th>2018-03-08 03:00:00</th>\n",
       "      <td>68</td>\n",
       "      <td>8</td>\n",
       "      <td>3</td>\n",
       "      <td>3</td>\n",
       "      <td>65.0</td>\n",
       "      <td>78.0</td>\n",
       "      <td>143.0</td>\n",
       "      <td>73.0</td>\n",
       "      <td>66.0</td>\n",
       "      <td>24.0</td>\n",
       "      <td>43.0</td>\n",
       "      <td>66.0</td>\n",
       "      <td>71.0</td>\n",
       "      <td>82.083333</td>\n",
       "    </tr>\n",
       "    <tr>\n",
       "      <th>2018-03-08 04:00:00</th>\n",
       "      <td>60</td>\n",
       "      <td>8</td>\n",
       "      <td>3</td>\n",
       "      <td>4</td>\n",
       "      <td>68.0</td>\n",
       "      <td>65.0</td>\n",
       "      <td>78.0</td>\n",
       "      <td>10.0</td>\n",
       "      <td>73.0</td>\n",
       "      <td>66.0</td>\n",
       "      <td>6.0</td>\n",
       "      <td>43.0</td>\n",
       "      <td>66.0</td>\n",
       "      <td>83.500000</td>\n",
       "    </tr>\n",
       "    <tr>\n",
       "      <th>2018-03-08 05:00:00</th>\n",
       "      <td>6</td>\n",
       "      <td>8</td>\n",
       "      <td>3</td>\n",
       "      <td>5</td>\n",
       "      <td>60.0</td>\n",
       "      <td>68.0</td>\n",
       "      <td>65.0</td>\n",
       "      <td>19.0</td>\n",
       "      <td>10.0</td>\n",
       "      <td>73.0</td>\n",
       "      <td>12.0</td>\n",
       "      <td>6.0</td>\n",
       "      <td>43.0</td>\n",
       "      <td>84.666667</td>\n",
       "    </tr>\n",
       "  </tbody>\n",
       "</table>\n",
       "</div>"
      ],
      "text/plain": [
       "                     num_orders  day  dayofweek  hour  lag_1  lag_2  lag_3  \\\n",
       "datetime                                                                     \n",
       "2018-03-08 01:00:00          78    8          3     1  143.0   94.0  127.0   \n",
       "2018-03-08 02:00:00          65    8          3     2   78.0  143.0   94.0   \n",
       "2018-03-08 03:00:00          68    8          3     3   65.0   78.0  143.0   \n",
       "2018-03-08 04:00:00          60    8          3     4   68.0   65.0   78.0   \n",
       "2018-03-08 05:00:00           6    8          3     5   60.0   68.0   65.0   \n",
       "\n",
       "                     lag_23  lag_24  lag_25  lag_167  lag_168  lag_169  \\\n",
       "datetime                                                                 \n",
       "2018-03-08 01:00:00    24.0   121.0   100.0     71.0     85.0    124.0   \n",
       "2018-03-08 02:00:00    66.0    24.0   121.0     66.0     71.0     85.0   \n",
       "2018-03-08 03:00:00    73.0    66.0    24.0     43.0     66.0     71.0   \n",
       "2018-03-08 04:00:00    10.0    73.0    66.0      6.0     43.0     66.0   \n",
       "2018-03-08 05:00:00    19.0    10.0    73.0     12.0      6.0     43.0   \n",
       "\n",
       "                     rolling_mean  \n",
       "datetime                           \n",
       "2018-03-08 01:00:00     78.333333  \n",
       "2018-03-08 02:00:00     80.250000  \n",
       "2018-03-08 03:00:00     82.083333  \n",
       "2018-03-08 04:00:00     83.500000  \n",
       "2018-03-08 05:00:00     84.666667  "
      ]
     },
     "execution_count": 27,
     "metadata": {},
     "output_type": "execute_result"
    }
   ],
   "source": [
    "df_learning.head()"
   ]
  },
  {
   "cell_type": "code",
   "execution_count": 28,
   "metadata": {},
   "outputs": [
    {
     "data": {
      "image/png": "[encoded data removed]",
      "text/plain": [
       "<Figure size 720x432 with 2 Axes>"
      ]
     },
     "metadata": {},
     "output_type": "display_data"
    }
   ],
   "source": [
    "corr_matrix = df_learning.corr()\n",
    "\n",
    "plt.figure(figsize=(10, 6))\n",
    "sns.heatmap(corr_matrix, annot=True, cmap='coolwarm', fmt='.2f', linewidths=0.5)\n",
    "plt.title('Корреляционная матрица признаков')\n",
    "plt.show()"
   ]
  },
  {
   "cell_type": "markdown",
   "metadata": {},
   "source": [
    "Разделим данные на обучающую и тестовую выборки"
   ]
  },
  {
   "cell_type": "code",
   "execution_count": 29,
   "metadata": {},
   "outputs": [],
   "source": [
    "features = df_learning.drop(['num_orders'], axis=1)\n",
    "target = df_learning['num_orders']\n"
   ]
  },
  {
   "cell_type": "code",
   "execution_count": 30,
   "metadata": {},
   "outputs": [],
   "source": [
    "features_train, features_test, target_train, target_test = train_test_split(\n",
    "    features, target,shuffle = False, test_size=0.1)\n"
   ]
  },
  {
   "cell_type": "markdown",
   "metadata": {},
   "source": [
    "### Обучение моделей"
   ]
  },
  {
   "cell_type": "code",
   "execution_count": 31,
   "metadata": {},
   "outputs": [],
   "source": [
    "train_models = []"
   ]
  },
  {
   "cell_type": "code",
   "execution_count": 32,
   "metadata": {},
   "outputs": [],
   "source": [
    "tscv = TimeSeriesSplit(n_splits=2)"
   ]
  },
  {
   "cell_type": "markdown",
   "metadata": {},
   "source": [
    "#### Линейная регрессия"
   ]
  },
  {
   "cell_type": "code",
   "execution_count": 33,
   "metadata": {},
   "outputs": [
    {
     "name": "stdout",
     "output_type": "stream",
     "text": [
      "Лучшие параметры: {'alpha': 0.1, 'fit_intercept': True, 'normalize': True}\n"
     ]
    }
   ],
   "source": [
    "param_grid = {\n",
    "    'alpha': [0.1, 1, 10, 100], \n",
    "    'fit_intercept': [True, False],\n",
    "    'normalize': [True, False]  \n",
    "}\n",
    "\n",
    "model = Ridge()\n",
    "\n",
    "grid_search_rg = GridSearchCV(estimator=model, param_grid=param_grid, cv=tscv, scoring='neg_mean_squared_error')\n",
    "grid_search_rg.fit(features_train, target_train)\n",
    "\n",
    "best_params = grid_search_rg.best_params_\n",
    "print(f\"Лучшие параметры: {best_params}\")"
   ]
  },
  {
   "cell_type": "code",
   "execution_count": 34,
   "metadata": {},
   "outputs": [
    {
     "data": {
      "text/plain": [
       "22.374920279873102"
      ]
     },
     "execution_count": 34,
     "metadata": {},
     "output_type": "execute_result"
    }
   ],
   "source": [
    "predictions = grid_search_rg.predict(features_train)\n",
    "rmse = mean_squared_error(target_train, predictions, squared=False)\n",
    "rmse"
   ]
  },
  {
   "cell_type": "code",
   "execution_count": 35,
   "metadata": {},
   "outputs": [],
   "source": [
    "train_models.append([model, rmse])"
   ]
  },
  {
   "cell_type": "markdown",
   "metadata": {},
   "source": [
    "#### RandomForestRegressor"
   ]
  },
  {
   "cell_type": "code",
   "execution_count": 36,
   "metadata": {},
   "outputs": [],
   "source": [
    "model = RandomForestRegressor(random_state=42)"
   ]
  },
  {
   "cell_type": "code",
   "execution_count": 37,
   "metadata": {},
   "outputs": [],
   "source": [
    "parameters = {'n_estimators':range(50,100,10), 'max_depth':range(1,11,2)}\n"
   ]
  },
  {
   "cell_type": "code",
   "execution_count": 38,
   "metadata": {},
   "outputs": [],
   "source": [
    "gsearch_rf = GridSearchCV(estimator=model, cv=tscv, param_grid=parameters)"
   ]
  },
  {
   "cell_type": "code",
   "execution_count": 39,
   "metadata": {},
   "outputs": [
    {
     "data": {
      "text/plain": [
       "{'max_depth': 7, 'n_estimators': 90}"
      ]
     },
     "execution_count": 39,
     "metadata": {},
     "output_type": "execute_result"
    }
   ],
   "source": [
    "gsearch_rf.fit(features_train, target_train)\n",
    "gsearch_rf.best_params_"
   ]
  },
  {
   "cell_type": "code",
   "execution_count": 40,
   "metadata": {},
   "outputs": [
    {
     "data": {
      "text/plain": [
       "18.2816410736632"
      ]
     },
     "execution_count": 40,
     "metadata": {},
     "output_type": "execute_result"
    }
   ],
   "source": [
    "predictions = gsearch_rf.predict(features_train)\n",
    "rmse = mean_squared_error(target_train, predictions, squared=False)\n",
    "rmse"
   ]
  },
  {
   "cell_type": "code",
   "execution_count": 41,
   "metadata": {},
   "outputs": [],
   "source": [
    "train_models.append([gsearch_rf, rmse])"
   ]
  },
  {
   "cell_type": "markdown",
   "metadata": {},
   "source": [
    "#### CatBoost"
   ]
  },
  {
   "cell_type": "code",
   "execution_count": 42,
   "metadata": {},
   "outputs": [
    {
     "name": "stdout",
     "output_type": "stream",
     "text": [
      "Лучшие параметры: {'depth': 5, 'iterations': 1000, 'learning_rate': 0.01}\n"
     ]
    }
   ],
   "source": [
    "param_grid = {\n",
    "    'iterations': [500, 1000],  \n",
    "    'learning_rate': [0.01, 0.05],  \n",
    "    'depth': [5, 6]\n",
    "}\n",
    "\n",
    "model = CatBoostRegressor(verbose=False)\n",
    "grid_search_cb = GridSearchCV(estimator=model, cv=tscv, param_grid=param_grid, scoring='neg_mean_squared_error', n_jobs=-1)\n",
    "grid_search_cb.fit(features_train, target_train)\n",
    "best_params = grid_search_cb.best_params_\n",
    "print(f\"Лучшие параметры: {best_params}\")"
   ]
  },
  {
   "cell_type": "code",
   "execution_count": 43,
   "metadata": {},
   "outputs": [
    {
     "data": {
      "text/plain": [
       "19.770458348918016"
      ]
     },
     "execution_count": 43,
     "metadata": {},
     "output_type": "execute_result"
    }
   ],
   "source": [
    "predictions = grid_search_cb.predict(features_train)\n",
    "rmse = mean_squared_error(target_train, predictions, squared=False)\n",
    "rmse"
   ]
  },
  {
   "cell_type": "code",
   "execution_count": 44,
   "metadata": {},
   "outputs": [],
   "source": [
    "train_models.append([model, rmse])"
   ]
  },
  {
   "cell_type": "markdown",
   "metadata": {},
   "source": [
    "### Результаты"
   ]
  },
  {
   "cell_type": "code",
   "execution_count": 45,
   "metadata": {},
   "outputs": [],
   "source": [
    "result = pd.DataFrame(train_models, columns=['model', 'rmse_train'])"
   ]
  },
  {
   "cell_type": "code",
   "execution_count": 46,
   "metadata": {},
   "outputs": [
    {
     "data": {
      "text/html": [
       "<div>\n",
       "<style scoped>\n",
       "    .dataframe tbody tr th:only-of-type {\n",
       "        vertical-align: middle;\n",
       "    }\n",
       "\n",
       "    .dataframe tbody tr th {\n",
       "        vertical-align: top;\n",
       "    }\n",
       "\n",
       "    .dataframe thead th {\n",
       "        text-align: right;\n",
       "    }\n",
       "</style>\n",
       "<table border=\"1\" class=\"dataframe\">\n",
       "  <thead>\n",
       "    <tr style=\"text-align: right;\">\n",
       "      <th></th>\n",
       "      <th>model</th>\n",
       "      <th>rmse_train</th>\n",
       "    </tr>\n",
       "  </thead>\n",
       "  <tbody>\n",
       "    <tr>\n",
       "      <th>1</th>\n",
       "      <td>GridSearchCV(cv=TimeSeriesSplit(gap=0, max_train_size=None, n_splits=2, test_size=None),\\n             estimator=RandomForestRegressor(random_state=42),\\n             param_grid={'max_depth': range(1, 11, 2),\\n                         'n_estimators': range(50, 100, 10)})</td>\n",
       "      <td>18.281641</td>\n",
       "    </tr>\n",
       "    <tr>\n",
       "      <th>2</th>\n",
       "      <td>&lt;catboost.core.CatBoostRegressor object at 0x7fe71cce79d0&gt;</td>\n",
       "      <td>19.770458</td>\n",
       "    </tr>\n",
       "    <tr>\n",
       "      <th>0</th>\n",
       "      <td>Ridge()</td>\n",
       "      <td>22.374920</td>\n",
       "    </tr>\n",
       "  </tbody>\n",
       "</table>\n",
       "</div>"
      ],
      "text/plain": [
       "                                                                                                                                                                                                                                                                             model  \\\n",
       "1  GridSearchCV(cv=TimeSeriesSplit(gap=0, max_train_size=None, n_splits=2, test_size=None),\\n             estimator=RandomForestRegressor(random_state=42),\\n             param_grid={'max_depth': range(1, 11, 2),\\n                         'n_estimators': range(50, 100, 10)})   \n",
       "2  <catboost.core.CatBoostRegressor object at 0x7fe71cce79d0>                                                                                                                                                                                                                        \n",
       "0  Ridge()                                                                                                                                                                                                                                                                           \n",
       "\n",
       "   rmse_train  \n",
       "1  18.281641   \n",
       "2  19.770458   \n",
       "0  22.374920   "
      ]
     },
     "metadata": {},
     "output_type": "display_data"
    }
   ],
   "source": [
    "pd.options.display.max_colwidth = 0\n",
    "display(result.sort_values(by='rmse_train'))"
   ]
  },
  {
   "cell_type": "markdown",
   "metadata": {},
   "source": [
    "Таким образом выберем лучшую модель по качеству обучения - RandomForestRegressor"
   ]
  },
  {
   "cell_type": "markdown",
   "metadata": {},
   "source": [
    "## Тестирование"
   ]
  },
  {
   "cell_type": "code",
   "execution_count": 47,
   "metadata": {},
   "outputs": [
    {
     "data": {
      "text/plain": [
       "43.442151745234526"
      ]
     },
     "execution_count": 47,
     "metadata": {},
     "output_type": "execute_result"
    }
   ],
   "source": [
    "best_model = gsearch_rf.best_estimator_\n",
    "predictions = best_model.predict(features_test)\n",
    "rmse = mean_squared_error(target_test, predictions, squared=False)\n",
    "rmse"
   ]
  },
  {
   "cell_type": "markdown",
   "metadata": {},
   "source": [
    "Тетсирование модели на тетсовой выборке показало качество 43.4, что удовлетворяет условию ( меньше 48) "
   ]
  },
  {
   "cell_type": "code",
   "execution_count": 48,
   "metadata": {},
   "outputs": [
    {
     "data": {
      "image/png": "[encoded data removed]",
      "text/plain": [
       "<Figure size 1008x720 with 1 Axes>"
      ]
     },
     "metadata": {},
     "output_type": "display_data"
    }
   ],
   "source": [
    "time_index = features_test.index\n",
    "\n",
    "plt.figure(figsize=(14, 10))\n",
    "\n",
    "\n",
    "plt.plot(time_index, target_test, label='Реальные значения', linestyle='-', marker='o')\n",
    "\n",
    "\n",
    "plt.plot(time_index, predictions, label='Предсказания модели RF', linestyle='--', marker='x')\n",
    "\n",
    "\n",
    "plt.title(f'Реальные значения и предсказания модели {type(best_model).__name__}\\nRMSE: {rmse:.2f}')\n",
    "plt.xlabel('Время')\n",
    "plt.ylabel('Значение')\n",
    "\n",
    "\n",
    "plt.legend()\n",
    "\n",
    "\n",
    "plt.grid(True)\n",
    "plt.xticks(rotation=45) \n",
    "plt.tight_layout()  \n",
    "plt.show()"
   ]
  },
  {
   "cell_type": "markdown",
   "metadata": {},
   "source": [
    "Таким образом, выберем модель  - RandomForestRegressor. ЗаметимЮ что качетсов на тестовой выборке заметно упало ( в два раза) по сравнению с тренировочноый выборкой это связано с тем, что модель обучается на старых данных, и если в данных появляются новые паттерны ( меняется поведелние пользователей, сезонность, тренды, праздники, акции и прочее) то модель просто не успевает адоптировтася к ним."
   ]
  }
 ],
 "metadata": {
  "ExecuteTimeLog": [
   {
    "duration": 1843,
    "start_time": "2025-05-02T13:16:12.106Z"
   },
   {
    "duration": 4,
    "start_time": "2025-05-02T13:16:17.415Z"
   },
   {
    "duration": 78,
    "start_time": "2025-05-02T13:17:06.843Z"
   },
   {
    "duration": 11,
    "start_time": "2025-05-02T13:17:19.376Z"
   },
   {
    "duration": 3,
    "start_time": "2025-05-02T13:17:35.467Z"
   },
   {
    "duration": 8,
    "start_time": "2025-05-02T13:17:38.809Z"
   },
   {
    "duration": 12,
    "start_time": "2025-05-02T13:17:46.200Z"
   },
   {
    "duration": 5,
    "start_time": "2025-05-02T13:18:10.666Z"
   },
   {
    "duration": 9,
    "start_time": "2025-05-02T13:21:10.894Z"
   },
   {
    "duration": 8,
    "start_time": "2025-05-02T13:21:17.774Z"
   },
   {
    "duration": 4,
    "start_time": "2025-05-02T13:25:20.923Z"
   },
   {
    "duration": 10,
    "start_time": "2025-05-02T13:25:56.885Z"
   },
   {
    "duration": 355,
    "start_time": "2025-05-02T13:26:31.130Z"
   },
   {
    "duration": 128,
    "start_time": "2025-05-02T13:26:43.812Z"
   },
   {
    "duration": 389,
    "start_time": "2025-05-02T13:26:50.304Z"
   },
   {
    "duration": 72,
    "start_time": "2025-05-02T13:27:04.681Z"
   },
   {
    "duration": 12,
    "start_time": "2025-05-02T13:28:14.387Z"
   },
   {
    "duration": 9,
    "start_time": "2025-05-02T13:29:24.631Z"
   },
   {
    "duration": 183,
    "start_time": "2025-05-02T13:34:13.281Z"
   },
   {
    "duration": 383,
    "start_time": "2025-05-02T13:34:49.722Z"
   },
   {
    "duration": 203,
    "start_time": "2025-05-02T13:34:56.939Z"
   },
   {
    "duration": 335,
    "start_time": "2025-05-02T13:35:28.779Z"
   },
   {
    "duration": 5,
    "start_time": "2025-05-02T13:47:02.471Z"
   },
   {
    "duration": 16,
    "start_time": "2025-05-02T13:47:03.713Z"
   },
   {
    "duration": 4,
    "start_time": "2025-05-02T13:47:11.434Z"
   },
   {
    "duration": 4,
    "start_time": "2025-05-02T13:47:20.607Z"
   },
   {
    "duration": 15,
    "start_time": "2025-05-02T13:47:31.665Z"
   },
   {
    "duration": 4,
    "start_time": "2025-05-02T13:49:28.001Z"
   },
   {
    "duration": 5,
    "start_time": "2025-05-02T13:49:42.548Z"
   },
   {
    "duration": 3,
    "start_time": "2025-05-02T13:50:21.486Z"
   },
   {
    "duration": 2,
    "start_time": "2025-05-02T13:50:56.613Z"
   },
   {
    "duration": 15,
    "start_time": "2025-05-02T13:51:09.717Z"
   },
   {
    "duration": 6,
    "start_time": "2025-05-02T13:51:21.832Z"
   },
   {
    "duration": 3,
    "start_time": "2025-05-02T13:51:36.324Z"
   },
   {
    "duration": 3,
    "start_time": "2025-05-02T13:52:12.256Z"
   },
   {
    "duration": 3,
    "start_time": "2025-05-02T13:52:29.831Z"
   },
   {
    "duration": 3,
    "start_time": "2025-05-02T13:52:46.833Z"
   },
   {
    "duration": 15605,
    "start_time": "2025-05-02T13:52:54.346Z"
   },
   {
    "duration": 35,
    "start_time": "2025-05-02T13:53:18.134Z"
   },
   {
    "duration": 3,
    "start_time": "2025-05-02T13:53:29.374Z"
   },
   {
    "duration": 3,
    "start_time": "2025-05-02T13:53:51.037Z"
   },
   {
    "duration": 13,
    "start_time": "2025-05-02T13:53:58.559Z"
   },
   {
    "duration": 3065,
    "start_time": "2025-05-02T13:54:03.217Z"
   },
   {
    "duration": 6,
    "start_time": "2025-05-02T13:54:12.550Z"
   },
   {
    "duration": 3,
    "start_time": "2025-05-02T13:54:20.341Z"
   },
   {
    "duration": 5,
    "start_time": "2025-05-02T13:54:54.311Z"
   },
   {
    "duration": 9371,
    "start_time": "2025-05-02T13:54:54.851Z"
   },
   {
    "duration": 6,
    "start_time": "2025-05-02T13:55:10.672Z"
   },
   {
    "duration": 3,
    "start_time": "2025-05-02T13:55:13.016Z"
   },
   {
    "duration": 5,
    "start_time": "2025-05-02T13:55:38.791Z"
   },
   {
    "duration": 25,
    "start_time": "2025-05-02T13:55:49.702Z"
   },
   {
    "duration": 25,
    "start_time": "2025-05-02T13:56:01.995Z"
   },
   {
    "duration": 3,
    "start_time": "2025-05-02T13:57:01.320Z"
   },
   {
    "duration": 3,
    "start_time": "2025-05-02T13:57:09.334Z"
   },
   {
    "duration": 1458,
    "start_time": "2025-05-02T13:57:21.568Z"
   },
   {
    "duration": 14,
    "start_time": "2025-05-02T13:59:03.822Z"
   },
   {
    "duration": 3,
    "start_time": "2025-05-02T13:59:08.399Z"
   },
   {
    "duration": 1696,
    "start_time": "2025-05-02T13:59:08.998Z"
   },
   {
    "duration": 5,
    "start_time": "2025-05-02T14:00:12.956Z"
   },
   {
    "duration": 13,
    "start_time": "2025-05-02T14:00:19.905Z"
   },
   {
    "duration": 4,
    "start_time": "2025-05-02T14:03:20.765Z"
   },
   {
    "duration": 5,
    "start_time": "2025-05-02T14:06:09.332Z"
   },
   {
    "duration": 1678,
    "start_time": "2025-05-02T14:07:16.566Z"
   },
   {
    "duration": 32,
    "start_time": "2025-05-02T14:07:42.897Z"
   },
   {
    "duration": 3,
    "start_time": "2025-05-02T14:07:50.468Z"
   },
   {
    "duration": 1903,
    "start_time": "2025-05-02T14:14:55.720Z"
   },
   {
    "duration": 51,
    "start_time": "2025-05-02T14:14:57.627Z"
   },
   {
    "duration": 204,
    "start_time": "2025-05-02T14:14:57.679Z"
   },
   {
    "duration": 43,
    "start_time": "2025-05-02T14:14:57.887Z"
   },
   {
    "duration": 116,
    "start_time": "2025-05-02T14:14:57.933Z"
   },
   {
    "duration": 177,
    "start_time": "2025-05-02T14:14:58.051Z"
   },
   {
    "duration": 206,
    "start_time": "2025-05-02T14:14:58.230Z"
   },
   {
    "duration": 108,
    "start_time": "2025-05-02T14:14:58.438Z"
   },
   {
    "duration": 137,
    "start_time": "2025-05-02T14:14:58.549Z"
   },
   {
    "duration": 131,
    "start_time": "2025-05-02T14:14:58.689Z"
   },
   {
    "duration": 140,
    "start_time": "2025-05-02T14:14:58.822Z"
   },
   {
    "duration": 988,
    "start_time": "2025-05-02T14:14:58.964Z"
   },
   {
    "duration": 477,
    "start_time": "2025-05-02T14:14:59.953Z"
   },
   {
    "duration": 245,
    "start_time": "2025-05-02T14:15:00.433Z"
   },
   {
    "duration": 417,
    "start_time": "2025-05-02T14:15:00.681Z"
   },
   {
    "duration": 10,
    "start_time": "2025-05-02T14:15:01.108Z"
   },
   {
    "duration": 152,
    "start_time": "2025-05-02T14:15:01.121Z"
   },
   {
    "duration": 16,
    "start_time": "2025-05-02T14:15:01.275Z"
   },
   {
    "duration": 26,
    "start_time": "2025-05-02T14:15:01.293Z"
   },
   {
    "duration": 64,
    "start_time": "2025-05-02T14:15:01.321Z"
   },
   {
    "duration": 29,
    "start_time": "2025-05-02T14:15:01.387Z"
   },
   {
    "duration": 58,
    "start_time": "2025-05-02T14:15:01.419Z"
   },
   {
    "duration": 35,
    "start_time": "2025-05-02T14:15:01.479Z"
   },
   {
    "duration": 2202,
    "start_time": "2025-05-02T14:15:01.517Z"
   },
   {
    "duration": 83,
    "start_time": "2025-05-02T14:15:03.722Z"
   },
   {
    "duration": 104,
    "start_time": "2025-05-02T14:15:03.808Z"
   },
   {
    "duration": 16,
    "start_time": "2025-05-02T14:15:03.914Z"
   },
   {
    "duration": 39,
    "start_time": "2025-05-02T14:15:03.936Z"
   },
   {
    "duration": 11,
    "start_time": "2025-05-02T14:15:03.977Z"
   },
   {
    "duration": 16567,
    "start_time": "2025-05-02T14:15:03.990Z"
   },
   {
    "duration": 61,
    "start_time": "2025-05-02T14:15:20.559Z"
   },
   {
    "duration": 5,
    "start_time": "2025-05-02T14:15:20.622Z"
   },
   {
    "duration": 32638,
    "start_time": "2025-05-02T14:15:20.630Z"
   },
   {
    "duration": 14,
    "start_time": "2025-05-02T14:15:53.271Z"
   },
   {
    "duration": 10,
    "start_time": "2025-05-02T14:15:53.287Z"
   },
   {
    "duration": 11,
    "start_time": "2025-05-02T14:15:53.301Z"
   },
   {
    "duration": 6,
    "start_time": "2025-05-02T14:15:53.315Z"
   },
   {
    "duration": 111804,
    "start_time": "2025-05-02T14:15:53.323Z"
   },
   {
    "duration": 14,
    "start_time": "2025-05-02T14:17:45.205Z"
   },
   {
    "duration": 71,
    "start_time": "2025-05-02T14:17:45.220Z"
   },
   {
    "duration": 30,
    "start_time": "2025-05-02T14:17:45.292Z"
   },
   {
    "duration": 19,
    "start_time": "2025-05-02T14:17:45.324Z"
   },
   {
    "duration": 9,
    "start_time": "2025-05-02T14:17:45.345Z"
   },
   {
    "duration": 13,
    "start_time": "2025-05-02T14:17:45.356Z"
   },
   {
    "duration": 150,
    "start_time": "2025-05-02T14:17:45.371Z"
   },
   {
    "duration": 0,
    "start_time": "2025-05-02T14:17:45.523Z"
   },
   {
    "duration": 0,
    "start_time": "2025-05-02T14:17:45.528Z"
   },
   {
    "duration": 1,
    "start_time": "2025-05-02T14:17:45.529Z"
   },
   {
    "duration": 1631,
    "start_time": "2025-05-02T14:28:11.934Z"
   },
   {
    "duration": 43,
    "start_time": "2025-05-02T14:28:13.567Z"
   },
   {
    "duration": 12,
    "start_time": "2025-05-02T14:28:13.612Z"
   },
   {
    "duration": 22,
    "start_time": "2025-05-02T14:28:13.626Z"
   },
   {
    "duration": 5,
    "start_time": "2025-05-02T14:28:13.651Z"
   },
   {
    "duration": 16,
    "start_time": "2025-05-02T14:28:13.658Z"
   },
   {
    "duration": 39,
    "start_time": "2025-05-02T14:28:13.676Z"
   },
   {
    "duration": 10,
    "start_time": "2025-05-02T14:28:13.717Z"
   },
   {
    "duration": 8,
    "start_time": "2025-05-02T14:28:13.729Z"
   },
   {
    "duration": 5,
    "start_time": "2025-05-02T14:28:13.738Z"
   },
   {
    "duration": 12,
    "start_time": "2025-05-02T14:28:13.744Z"
   },
   {
    "duration": 421,
    "start_time": "2025-05-02T14:28:13.758Z"
   },
   {
    "duration": 436,
    "start_time": "2025-05-02T14:28:14.181Z"
   },
   {
    "duration": 237,
    "start_time": "2025-05-02T14:28:14.620Z"
   },
   {
    "duration": 388,
    "start_time": "2025-05-02T14:28:14.859Z"
   },
   {
    "duration": 5,
    "start_time": "2025-05-02T14:28:15.249Z"
   },
   {
    "duration": 46,
    "start_time": "2025-05-02T14:28:15.256Z"
   },
   {
    "duration": 5,
    "start_time": "2025-05-02T14:28:15.304Z"
   },
   {
    "duration": 33,
    "start_time": "2025-05-02T14:28:15.311Z"
   },
   {
    "duration": 49,
    "start_time": "2025-05-02T14:28:15.347Z"
   },
   {
    "duration": 20,
    "start_time": "2025-05-02T14:28:15.398Z"
   },
   {
    "duration": 13,
    "start_time": "2025-05-02T14:28:15.420Z"
   },
   {
    "duration": 7,
    "start_time": "2025-05-02T14:28:15.435Z"
   },
   {
    "duration": 10,
    "start_time": "2025-05-02T14:28:15.444Z"
   },
   {
    "duration": 1951,
    "start_time": "2025-05-02T14:28:15.456Z"
   },
   {
    "duration": 94,
    "start_time": "2025-05-02T14:28:17.410Z"
   },
   {
    "duration": 7,
    "start_time": "2025-05-02T14:28:17.510Z"
   },
   {
    "duration": 86,
    "start_time": "2025-05-02T14:28:17.521Z"
   },
   {
    "duration": 11,
    "start_time": "2025-05-02T14:28:17.610Z"
   },
   {
    "duration": 13,
    "start_time": "2025-05-02T14:28:17.624Z"
   },
   {
    "duration": 16461,
    "start_time": "2025-05-02T14:28:17.639Z"
   },
   {
    "duration": 33,
    "start_time": "2025-05-02T14:28:34.104Z"
   },
   {
    "duration": 3,
    "start_time": "2025-05-02T14:28:34.139Z"
   },
   {
    "duration": 28806,
    "start_time": "2025-05-02T14:28:34.144Z"
   },
   {
    "duration": 8,
    "start_time": "2025-05-02T14:29:02.952Z"
   },
   {
    "duration": 13,
    "start_time": "2025-05-02T14:29:02.962Z"
   },
   {
    "duration": 28,
    "start_time": "2025-05-02T14:29:02.977Z"
   },
   {
    "duration": 52,
    "start_time": "2025-05-02T14:31:16.937Z"
   },
   {
    "duration": 1609,
    "start_time": "2025-05-02T14:31:23.978Z"
   },
   {
    "duration": 47,
    "start_time": "2025-05-02T14:31:25.590Z"
   },
   {
    "duration": 11,
    "start_time": "2025-05-02T14:31:25.639Z"
   },
   {
    "duration": 12,
    "start_time": "2025-05-02T14:31:25.652Z"
   },
   {
    "duration": 5,
    "start_time": "2025-05-02T14:31:25.667Z"
   },
   {
    "duration": 48,
    "start_time": "2025-05-02T14:31:25.674Z"
   },
   {
    "duration": 12,
    "start_time": "2025-05-02T14:31:25.724Z"
   },
   {
    "duration": 11,
    "start_time": "2025-05-02T14:31:25.737Z"
   },
   {
    "duration": 26,
    "start_time": "2025-05-02T14:31:25.752Z"
   },
   {
    "duration": 16,
    "start_time": "2025-05-02T14:31:25.780Z"
   },
   {
    "duration": 19,
    "start_time": "2025-05-02T14:31:25.798Z"
   },
   {
    "duration": 377,
    "start_time": "2025-05-02T14:31:25.822Z"
   },
   {
    "duration": 449,
    "start_time": "2025-05-02T14:31:26.204Z"
   },
   {
    "duration": 224,
    "start_time": "2025-05-02T14:31:26.656Z"
   },
   {
    "duration": 379,
    "start_time": "2025-05-02T14:31:26.882Z"
   },
   {
    "duration": 5,
    "start_time": "2025-05-02T14:31:27.263Z"
   },
   {
    "duration": 37,
    "start_time": "2025-05-02T14:31:27.270Z"
   },
   {
    "duration": 5,
    "start_time": "2025-05-02T14:31:27.316Z"
   },
   {
    "duration": 39,
    "start_time": "2025-05-02T14:31:27.323Z"
   },
   {
    "duration": 18,
    "start_time": "2025-05-02T14:31:27.363Z"
   },
   {
    "duration": 11,
    "start_time": "2025-05-02T14:31:27.383Z"
   },
   {
    "duration": 20,
    "start_time": "2025-05-02T14:31:27.396Z"
   },
   {
    "duration": 5,
    "start_time": "2025-05-02T14:31:27.417Z"
   },
   {
    "duration": 4,
    "start_time": "2025-05-02T14:31:27.424Z"
   },
   {
    "duration": 2589,
    "start_time": "2025-05-02T14:31:27.430Z"
   },
   {
    "duration": 93,
    "start_time": "2025-05-02T14:31:30.021Z"
   },
   {
    "duration": 169,
    "start_time": "2025-05-02T14:31:30.119Z"
   },
   {
    "duration": 49,
    "start_time": "2025-05-02T14:31:30.290Z"
   },
   {
    "duration": 126,
    "start_time": "2025-05-02T14:31:30.341Z"
   },
   {
    "duration": 43,
    "start_time": "2025-05-02T14:31:30.468Z"
   },
   {
    "duration": 16523,
    "start_time": "2025-05-02T14:31:30.513Z"
   },
   {
    "duration": 33,
    "start_time": "2025-05-02T14:31:47.037Z"
   },
   {
    "duration": 4,
    "start_time": "2025-05-02T14:31:47.072Z"
   },
   {
    "duration": 33951,
    "start_time": "2025-05-02T14:31:47.078Z"
   },
   {
    "duration": 10,
    "start_time": "2025-05-02T14:32:21.032Z"
   },
   {
    "duration": 41,
    "start_time": "2025-05-02T14:32:21.044Z"
   },
   {
    "duration": 8,
    "start_time": "2025-05-02T14:32:21.088Z"
   },
   {
    "duration": 1664,
    "start_time": "2025-05-02T14:32:59.155Z"
   },
   {
    "duration": 44,
    "start_time": "2025-05-02T14:33:00.823Z"
   },
   {
    "duration": 11,
    "start_time": "2025-05-02T14:33:00.870Z"
   },
   {
    "duration": 19,
    "start_time": "2025-05-02T14:33:00.882Z"
   },
   {
    "duration": 9,
    "start_time": "2025-05-02T14:33:00.904Z"
   },
   {
    "duration": 19,
    "start_time": "2025-05-02T14:33:00.915Z"
   },
   {
    "duration": 11,
    "start_time": "2025-05-02T14:33:00.936Z"
   },
   {
    "duration": 17,
    "start_time": "2025-05-02T14:33:00.949Z"
   },
   {
    "duration": 39,
    "start_time": "2025-05-02T14:33:00.968Z"
   },
   {
    "duration": 4,
    "start_time": "2025-05-02T14:33:01.021Z"
   },
   {
    "duration": 16,
    "start_time": "2025-05-02T14:33:01.027Z"
   },
   {
    "duration": 420,
    "start_time": "2025-05-02T14:33:01.045Z"
   },
   {
    "duration": 466,
    "start_time": "2025-05-02T14:33:01.467Z"
   },
   {
    "duration": 228,
    "start_time": "2025-05-02T14:33:01.938Z"
   },
   {
    "duration": 386,
    "start_time": "2025-05-02T14:33:02.168Z"
   },
   {
    "duration": 6,
    "start_time": "2025-05-02T14:33:02.556Z"
   },
   {
    "duration": 76,
    "start_time": "2025-05-02T14:33:02.564Z"
   },
   {
    "duration": 122,
    "start_time": "2025-05-02T14:33:02.642Z"
   },
   {
    "duration": 19,
    "start_time": "2025-05-02T14:33:02.767Z"
   },
   {
    "duration": 44,
    "start_time": "2025-05-02T14:33:02.789Z"
   },
   {
    "duration": 32,
    "start_time": "2025-05-02T14:33:02.836Z"
   },
   {
    "duration": 31,
    "start_time": "2025-05-02T14:33:02.870Z"
   },
   {
    "duration": 24,
    "start_time": "2025-05-02T14:33:02.903Z"
   },
   {
    "duration": 10,
    "start_time": "2025-05-02T14:33:02.929Z"
   },
   {
    "duration": 2579,
    "start_time": "2025-05-02T14:33:02.940Z"
   },
   {
    "duration": 114,
    "start_time": "2025-05-02T14:33:05.612Z"
   },
   {
    "duration": 5,
    "start_time": "2025-05-02T14:33:05.804Z"
   },
   {
    "duration": 63,
    "start_time": "2025-05-02T14:33:05.813Z"
   },
   {
    "duration": 40,
    "start_time": "2025-05-02T14:33:05.878Z"
   },
   {
    "duration": 30,
    "start_time": "2025-05-02T14:33:05.921Z"
   },
   {
    "duration": 17120,
    "start_time": "2025-05-02T14:33:05.953Z"
   },
   {
    "duration": 50,
    "start_time": "2025-05-02T14:33:23.075Z"
   },
   {
    "duration": 3,
    "start_time": "2025-05-02T14:33:23.128Z"
   },
   {
    "duration": 33239,
    "start_time": "2025-05-02T14:33:23.133Z"
   },
   {
    "duration": 8,
    "start_time": "2025-05-02T14:33:56.374Z"
   },
   {
    "duration": 74,
    "start_time": "2025-05-02T14:33:56.383Z"
   },
   {
    "duration": 31,
    "start_time": "2025-05-02T14:33:56.459Z"
   },
   {
    "duration": 40,
    "start_time": "2025-05-02T14:33:56.492Z"
   },
   {
    "duration": 11,
    "start_time": "2025-05-02T14:33:56.534Z"
   },
   {
    "duration": 7,
    "start_time": "2025-05-02T14:33:56.547Z"
   },
   {
    "duration": 177,
    "start_time": "2025-05-02T14:33:56.557Z"
   },
   {
    "duration": 0,
    "start_time": "2025-05-02T14:33:56.740Z"
   },
   {
    "duration": 1,
    "start_time": "2025-05-02T14:33:56.741Z"
   },
   {
    "duration": 16730,
    "start_time": "2025-05-02T14:35:42.854Z"
   },
   {
    "duration": 691,
    "start_time": "2025-05-02T14:37:47.470Z"
   },
   {
    "duration": 13,
    "start_time": "2025-05-02T14:38:13.521Z"
   },
   {
    "duration": 5102,
    "start_time": "2025-05-02T14:38:37.906Z"
   },
   {
    "duration": 5,
    "start_time": "2025-05-02T14:39:09.003Z"
   },
   {
    "duration": 14,
    "start_time": "2025-05-02T14:39:09.718Z"
   },
   {
    "duration": 2555,
    "start_time": "2025-05-02T14:42:38.672Z"
   },
   {
    "duration": 13,
    "start_time": "2025-05-02T14:42:44.619Z"
   },
   {
    "duration": 7,
    "start_time": "2025-05-02T14:43:20.443Z"
   },
   {
    "duration": 4,
    "start_time": "2025-05-02T14:44:08.697Z"
   },
   {
    "duration": 8,
    "start_time": "2025-05-02T14:44:16.812Z"
   },
   {
    "duration": 5,
    "start_time": "2025-05-02T14:44:52.813Z"
   },
   {
    "duration": 4,
    "start_time": "2025-05-02T14:44:53.653Z"
   },
   {
    "duration": 6,
    "start_time": "2025-05-02T14:45:04.087Z"
   },
   {
    "duration": 2,
    "start_time": "2025-05-02T14:45:05.022Z"
   },
   {
    "duration": 5,
    "start_time": "2025-05-02T14:45:05.698Z"
   },
   {
    "duration": 3,
    "start_time": "2025-05-02T14:45:57.928Z"
   },
   {
    "duration": 5,
    "start_time": "2025-05-02T14:45:58.616Z"
   },
   {
    "duration": 1675,
    "start_time": "2025-05-02T14:46:03.668Z"
   },
   {
    "duration": 44,
    "start_time": "2025-05-02T14:46:05.345Z"
   },
   {
    "duration": 12,
    "start_time": "2025-05-02T14:46:05.390Z"
   },
   {
    "duration": 40,
    "start_time": "2025-05-02T14:46:05.406Z"
   },
   {
    "duration": 17,
    "start_time": "2025-05-02T14:46:05.449Z"
   },
   {
    "duration": 26,
    "start_time": "2025-05-02T14:46:05.468Z"
   },
   {
    "duration": 16,
    "start_time": "2025-05-02T14:46:05.495Z"
   },
   {
    "duration": 14,
    "start_time": "2025-05-02T14:46:05.518Z"
   },
   {
    "duration": 23,
    "start_time": "2025-05-02T14:46:05.534Z"
   },
   {
    "duration": 25,
    "start_time": "2025-05-02T14:46:05.559Z"
   },
   {
    "duration": 43,
    "start_time": "2025-05-02T14:46:05.586Z"
   },
   {
    "duration": 421,
    "start_time": "2025-05-02T14:46:05.632Z"
   },
   {
    "duration": 435,
    "start_time": "2025-05-02T14:46:06.055Z"
   },
   {
    "duration": 232,
    "start_time": "2025-05-02T14:46:06.493Z"
   },
   {
    "duration": 385,
    "start_time": "2025-05-02T14:46:06.727Z"
   },
   {
    "duration": 7,
    "start_time": "2025-05-02T14:46:07.114Z"
   },
   {
    "duration": 143,
    "start_time": "2025-05-02T14:46:07.123Z"
   },
   {
    "duration": 9,
    "start_time": "2025-05-02T14:46:07.268Z"
   },
   {
    "duration": 26,
    "start_time": "2025-05-02T14:46:07.279Z"
   },
   {
    "duration": 24,
    "start_time": "2025-05-02T14:46:07.308Z"
   },
   {
    "duration": 41,
    "start_time": "2025-05-02T14:46:07.334Z"
   },
   {
    "duration": 11,
    "start_time": "2025-05-02T14:46:07.377Z"
   },
   {
    "duration": 22,
    "start_time": "2025-05-02T14:46:07.390Z"
   },
   {
    "duration": 24,
    "start_time": "2025-05-02T14:46:07.414Z"
   },
   {
    "duration": 2479,
    "start_time": "2025-05-02T14:46:07.439Z"
   },
   {
    "duration": 19,
    "start_time": "2025-05-02T14:46:10.003Z"
   },
   {
    "duration": 80,
    "start_time": "2025-05-02T14:46:10.029Z"
   },
   {
    "duration": 6,
    "start_time": "2025-05-02T14:46:10.112Z"
   },
   {
    "duration": 91,
    "start_time": "2025-05-02T14:46:10.126Z"
   },
   {
    "duration": 20,
    "start_time": "2025-05-02T14:46:10.219Z"
   },
   {
    "duration": 18156,
    "start_time": "2025-05-02T14:46:10.241Z"
   },
   {
    "duration": 36,
    "start_time": "2025-05-02T14:46:28.403Z"
   },
   {
    "duration": 83,
    "start_time": "2025-05-02T14:46:28.441Z"
   },
   {
    "duration": 36598,
    "start_time": "2025-05-02T14:46:28.526Z"
   },
   {
    "duration": 13,
    "start_time": "2025-05-02T14:47:05.126Z"
   },
   {
    "duration": 19,
    "start_time": "2025-05-02T14:47:05.142Z"
   },
   {
    "duration": 196,
    "start_time": "2025-05-02T14:47:05.163Z"
   },
   {
    "duration": 48,
    "start_time": "2025-05-02T14:47:05.361Z"
   },
   {
    "duration": 11,
    "start_time": "2025-05-02T14:47:05.411Z"
   },
   {
    "duration": 79,
    "start_time": "2025-05-02T14:47:05.425Z"
   },
   {
    "duration": 41,
    "start_time": "2025-05-02T14:47:05.511Z"
   },
   {
    "duration": 51,
    "start_time": "2025-05-02T14:47:05.553Z"
   },
   {
    "duration": 39,
    "start_time": "2025-05-02T14:47:05.606Z"
   },
   {
    "duration": 27,
    "start_time": "2025-05-02T14:47:05.648Z"
   },
   {
    "duration": 20,
    "start_time": "2025-05-02T14:47:05.703Z"
   },
   {
    "duration": 129,
    "start_time": "2025-05-02T14:49:11.350Z"
   },
   {
    "duration": 3,
    "start_time": "2025-05-02T14:49:22.328Z"
   },
   {
    "duration": 1660,
    "start_time": "2025-05-02T14:50:00.519Z"
   },
   {
    "duration": 43,
    "start_time": "2025-05-02T14:50:02.181Z"
   },
   {
    "duration": 13,
    "start_time": "2025-05-02T14:50:02.226Z"
   },
   {
    "duration": 137,
    "start_time": "2025-05-02T14:50:02.241Z"
   },
   {
    "duration": 25,
    "start_time": "2025-05-02T14:50:02.381Z"
   },
   {
    "duration": 12,
    "start_time": "2025-05-02T14:50:02.407Z"
   },
   {
    "duration": 247,
    "start_time": "2025-05-02T14:50:02.420Z"
   },
   {
    "duration": 20,
    "start_time": "2025-05-02T14:50:02.669Z"
   },
   {
    "duration": 12,
    "start_time": "2025-05-02T14:50:02.691Z"
   },
   {
    "duration": 12,
    "start_time": "2025-05-02T14:50:02.704Z"
   },
   {
    "duration": 136,
    "start_time": "2025-05-02T14:50:02.718Z"
   },
   {
    "duration": 389,
    "start_time": "2025-05-02T14:50:02.857Z"
   },
   {
    "duration": 428,
    "start_time": "2025-05-02T14:50:03.248Z"
   },
   {
    "duration": 224,
    "start_time": "2025-05-02T14:50:03.680Z"
   },
   {
    "duration": 365,
    "start_time": "2025-05-02T14:50:03.905Z"
   },
   {
    "duration": 5,
    "start_time": "2025-05-02T14:50:04.272Z"
   },
   {
    "duration": 151,
    "start_time": "2025-05-02T14:50:04.278Z"
   },
   {
    "duration": 6,
    "start_time": "2025-05-02T14:50:04.431Z"
   },
   {
    "duration": 39,
    "start_time": "2025-05-02T14:50:04.439Z"
   },
   {
    "duration": 15,
    "start_time": "2025-05-02T14:50:04.480Z"
   },
   {
    "duration": 4,
    "start_time": "2025-05-02T14:50:04.497Z"
   },
   {
    "duration": 8,
    "start_time": "2025-05-02T14:50:04.503Z"
   },
   {
    "duration": 9,
    "start_time": "2025-05-02T14:50:04.513Z"
   },
   {
    "duration": 11,
    "start_time": "2025-05-02T14:50:04.524Z"
   },
   {
    "duration": 2172,
    "start_time": "2025-05-02T14:50:04.537Z"
   },
   {
    "duration": 97,
    "start_time": "2025-05-02T14:50:06.712Z"
   },
   {
    "duration": 106,
    "start_time": "2025-05-02T14:50:06.812Z"
   },
   {
    "duration": 3,
    "start_time": "2025-05-02T14:50:06.921Z"
   },
   {
    "duration": 5,
    "start_time": "2025-05-02T14:50:06.926Z"
   },
   {
    "duration": 4,
    "start_time": "2025-05-02T14:50:06.933Z"
   },
   {
    "duration": 15657,
    "start_time": "2025-05-02T14:50:06.939Z"
   },
   {
    "duration": 36,
    "start_time": "2025-05-02T14:50:22.598Z"
   },
   {
    "duration": 143,
    "start_time": "2025-05-02T14:50:22.636Z"
   },
   {
    "duration": 0,
    "start_time": "2025-05-02T14:50:22.781Z"
   },
   {
    "duration": 0,
    "start_time": "2025-05-02T14:50:22.782Z"
   },
   {
    "duration": 0,
    "start_time": "2025-05-02T14:50:22.783Z"
   },
   {
    "duration": 0,
    "start_time": "2025-05-02T14:50:22.784Z"
   },
   {
    "duration": 0,
    "start_time": "2025-05-02T14:50:22.785Z"
   },
   {
    "duration": 0,
    "start_time": "2025-05-02T14:50:22.786Z"
   },
   {
    "duration": 0,
    "start_time": "2025-05-02T14:50:22.787Z"
   },
   {
    "duration": 0,
    "start_time": "2025-05-02T14:50:22.804Z"
   },
   {
    "duration": 0,
    "start_time": "2025-05-02T14:50:22.806Z"
   },
   {
    "duration": 0,
    "start_time": "2025-05-02T14:50:22.807Z"
   },
   {
    "duration": 0,
    "start_time": "2025-05-02T14:50:22.808Z"
   },
   {
    "duration": 0,
    "start_time": "2025-05-02T14:50:22.809Z"
   },
   {
    "duration": 0,
    "start_time": "2025-05-02T14:50:22.810Z"
   },
   {
    "duration": 3,
    "start_time": "2025-05-02T14:50:39.654Z"
   },
   {
    "duration": 2,
    "start_time": "2025-05-02T14:50:47.635Z"
   },
   {
    "duration": 3,
    "start_time": "2025-05-02T14:50:48.128Z"
   },
   {
    "duration": 9,
    "start_time": "2025-05-02T14:50:49.013Z"
   },
   {
    "duration": 4,
    "start_time": "2025-05-02T14:50:51.588Z"
   },
   {
    "duration": 3,
    "start_time": "2025-05-02T14:50:52.295Z"
   },
   {
    "duration": 14,
    "start_time": "2025-05-02T14:50:53.595Z"
   },
   {
    "duration": 3,
    "start_time": "2025-05-02T14:51:03.308Z"
   },
   {
    "duration": 28789,
    "start_time": "2025-05-02T14:52:02.173Z"
   },
   {
    "duration": 8,
    "start_time": "2025-05-02T14:52:30.964Z"
   },
   {
    "duration": 3,
    "start_time": "2025-05-02T14:52:30.974Z"
   },
   {
    "duration": 5,
    "start_time": "2025-05-02T14:55:46.052Z"
   },
   {
    "duration": 3,
    "start_time": "2025-05-02T14:55:46.873Z"
   },
   {
    "duration": 13,
    "start_time": "2025-05-02T14:55:53.848Z"
   },
   {
    "duration": 11,
    "start_time": "2025-05-02T14:57:02.411Z"
   },
   {
    "duration": 3,
    "start_time": "2025-05-02T14:57:13.056Z"
   },
   {
    "duration": 12,
    "start_time": "2025-05-02T14:57:13.840Z"
   },
   {
    "duration": 4,
    "start_time": "2025-05-02T14:57:20.948Z"
   },
   {
    "duration": 14,
    "start_time": "2025-05-02T14:57:21.591Z"
   },
   {
    "duration": 1694,
    "start_time": "2025-05-02T14:58:06.726Z"
   },
   {
    "duration": 43,
    "start_time": "2025-05-02T14:58:08.422Z"
   },
   {
    "duration": 125,
    "start_time": "2025-05-02T14:58:08.467Z"
   },
   {
    "duration": 15,
    "start_time": "2025-05-02T14:58:08.594Z"
   },
   {
    "duration": 5,
    "start_time": "2025-05-02T14:58:08.613Z"
   },
   {
    "duration": 16,
    "start_time": "2025-05-02T14:58:08.620Z"
   },
   {
    "duration": 10,
    "start_time": "2025-05-02T14:58:08.639Z"
   },
   {
    "duration": 9,
    "start_time": "2025-05-02T14:58:08.651Z"
   },
   {
    "duration": 43,
    "start_time": "2025-05-02T14:58:08.662Z"
   },
   {
    "duration": 4,
    "start_time": "2025-05-02T14:58:08.707Z"
   },
   {
    "duration": 9,
    "start_time": "2025-05-02T14:58:08.713Z"
   },
   {
    "duration": 376,
    "start_time": "2025-05-02T14:58:08.724Z"
   },
   {
    "duration": 409,
    "start_time": "2025-05-02T14:58:09.104Z"
   },
   {
    "duration": 218,
    "start_time": "2025-05-02T14:58:09.516Z"
   },
   {
    "duration": 360,
    "start_time": "2025-05-02T14:58:09.736Z"
   },
   {
    "duration": 6,
    "start_time": "2025-05-02T14:58:10.098Z"
   },
   {
    "duration": 16,
    "start_time": "2025-05-02T14:58:10.105Z"
   },
   {
    "duration": 4,
    "start_time": "2025-05-02T14:58:10.123Z"
   },
   {
    "duration": 15,
    "start_time": "2025-05-02T14:58:10.129Z"
   },
   {
    "duration": 25,
    "start_time": "2025-05-02T14:58:10.146Z"
   },
   {
    "duration": 17,
    "start_time": "2025-05-02T14:58:10.173Z"
   },
   {
    "duration": 14,
    "start_time": "2025-05-02T14:58:10.191Z"
   },
   {
    "duration": 2,
    "start_time": "2025-05-02T14:58:10.207Z"
   },
   {
    "duration": 3,
    "start_time": "2025-05-02T14:58:10.211Z"
   },
   {
    "duration": 2197,
    "start_time": "2025-05-02T14:58:10.216Z"
   },
   {
    "duration": 103,
    "start_time": "2025-05-02T14:58:12.506Z"
   },
   {
    "duration": 3,
    "start_time": "2025-05-02T14:58:12.704Z"
   },
   {
    "duration": 4,
    "start_time": "2025-05-02T14:58:12.709Z"
   },
   {
    "duration": 6,
    "start_time": "2025-05-02T14:58:12.714Z"
   },
   {
    "duration": 5,
    "start_time": "2025-05-02T14:58:12.722Z"
   },
   {
    "duration": 15186,
    "start_time": "2025-05-02T14:58:12.729Z"
   },
   {
    "duration": 32,
    "start_time": "2025-05-02T14:58:27.918Z"
   },
   {
    "duration": 6,
    "start_time": "2025-05-02T14:58:27.952Z"
   },
   {
    "duration": 29109,
    "start_time": "2025-05-02T14:58:27.960Z"
   },
   {
    "duration": 9,
    "start_time": "2025-05-02T14:58:57.071Z"
   },
   {
    "duration": 3,
    "start_time": "2025-05-02T14:58:57.081Z"
   },
   {
    "duration": 9,
    "start_time": "2025-05-02T14:58:57.086Z"
   },
   {
    "duration": 26,
    "start_time": "2025-05-02T14:58:57.097Z"
   },
   {
    "duration": 3,
    "start_time": "2025-05-02T14:58:57.125Z"
   },
   {
    "duration": 7,
    "start_time": "2025-05-02T14:58:57.130Z"
   },
   {
    "duration": 3,
    "start_time": "2025-05-02T14:58:57.141Z"
   },
   {
    "duration": 16,
    "start_time": "2025-05-02T14:58:57.146Z"
   },
   {
    "duration": 6,
    "start_time": "2025-05-02T14:58:57.163Z"
   },
   {
    "duration": 10,
    "start_time": "2025-05-02T14:58:57.170Z"
   },
   {
    "duration": 93,
    "start_time": "2025-05-02T14:58:57.182Z"
   },
   {
    "duration": 5,
    "start_time": "2025-05-02T15:01:28.187Z"
   },
   {
    "duration": 4,
    "start_time": "2025-05-02T15:01:29.592Z"
   },
   {
    "duration": 6,
    "start_time": "2025-05-02T15:02:37.080Z"
   },
   {
    "duration": 6,
    "start_time": "2025-05-02T15:02:50.290Z"
   },
   {
    "duration": 463,
    "start_time": "2025-05-02T15:02:59.018Z"
   },
   {
    "duration": 481,
    "start_time": "2025-05-02T15:03:52.067Z"
   },
   {
    "duration": 601,
    "start_time": "2025-05-02T15:04:18.322Z"
   },
   {
    "duration": 629,
    "start_time": "2025-05-02T15:04:45.713Z"
   },
   {
    "duration": 1711,
    "start_time": "2025-05-02T15:04:59.008Z"
   },
   {
    "duration": 44,
    "start_time": "2025-05-02T15:05:00.721Z"
   },
   {
    "duration": 18,
    "start_time": "2025-05-02T15:05:00.766Z"
   },
   {
    "duration": 30,
    "start_time": "2025-05-02T15:05:00.786Z"
   },
   {
    "duration": 119,
    "start_time": "2025-05-02T15:05:00.818Z"
   },
   {
    "duration": 39,
    "start_time": "2025-05-02T15:05:00.939Z"
   },
   {
    "duration": 11,
    "start_time": "2025-05-02T15:05:00.979Z"
   },
   {
    "duration": 14,
    "start_time": "2025-05-02T15:05:00.992Z"
   },
   {
    "duration": 14,
    "start_time": "2025-05-02T15:05:01.007Z"
   },
   {
    "duration": 11,
    "start_time": "2025-05-02T15:05:01.023Z"
   },
   {
    "duration": 57,
    "start_time": "2025-05-02T15:05:01.036Z"
   },
   {
    "duration": 375,
    "start_time": "2025-05-02T15:05:01.095Z"
   },
   {
    "duration": 421,
    "start_time": "2025-05-02T15:05:01.472Z"
   },
   {
    "duration": 217,
    "start_time": "2025-05-02T15:05:01.896Z"
   },
   {
    "duration": 354,
    "start_time": "2025-05-02T15:05:02.114Z"
   },
   {
    "duration": 4,
    "start_time": "2025-05-02T15:05:02.470Z"
   },
   {
    "duration": 167,
    "start_time": "2025-05-02T15:05:02.475Z"
   },
   {
    "duration": 5,
    "start_time": "2025-05-02T15:05:02.644Z"
   },
   {
    "duration": 79,
    "start_time": "2025-05-02T15:05:02.650Z"
   },
   {
    "duration": 38,
    "start_time": "2025-05-02T15:05:02.730Z"
   },
   {
    "duration": 99,
    "start_time": "2025-05-02T15:05:02.770Z"
   },
   {
    "duration": 60,
    "start_time": "2025-05-02T15:05:02.871Z"
   },
   {
    "duration": 90,
    "start_time": "2025-05-02T15:05:02.933Z"
   },
   {
    "duration": 34,
    "start_time": "2025-05-02T15:05:03.025Z"
   },
   {
    "duration": 2450,
    "start_time": "2025-05-02T15:05:03.061Z"
   },
   {
    "duration": 97,
    "start_time": "2025-05-02T15:05:05.513Z"
   },
   {
    "duration": 6,
    "start_time": "2025-05-02T15:05:05.612Z"
   },
   {
    "duration": 100,
    "start_time": "2025-05-02T15:05:05.620Z"
   },
   {
    "duration": 6,
    "start_time": "2025-05-02T15:05:05.722Z"
   },
   {
    "duration": 53,
    "start_time": "2025-05-02T15:05:05.730Z"
   },
   {
    "duration": 16376,
    "start_time": "2025-05-02T15:05:05.785Z"
   },
   {
    "duration": 45,
    "start_time": "2025-05-02T15:05:22.162Z"
   },
   {
    "duration": 5,
    "start_time": "2025-05-02T15:05:22.209Z"
   },
   {
    "duration": 34018,
    "start_time": "2025-05-02T15:05:22.220Z"
   },
   {
    "duration": 9,
    "start_time": "2025-05-02T15:05:56.239Z"
   },
   {
    "duration": 26,
    "start_time": "2025-05-02T15:05:56.250Z"
   },
   {
    "duration": 13,
    "start_time": "2025-05-02T15:05:56.278Z"
   },
   {
    "duration": 27,
    "start_time": "2025-05-02T15:05:56.292Z"
   },
   {
    "duration": 3,
    "start_time": "2025-05-02T15:05:56.322Z"
   },
   {
    "duration": 17,
    "start_time": "2025-05-02T15:05:56.327Z"
   },
   {
    "duration": 7,
    "start_time": "2025-05-02T15:05:56.348Z"
   },
   {
    "duration": 21,
    "start_time": "2025-05-02T15:05:56.356Z"
   },
   {
    "duration": 14,
    "start_time": "2025-05-02T15:05:56.379Z"
   },
   {
    "duration": 101,
    "start_time": "2025-05-02T15:05:56.395Z"
   },
   {
    "duration": 120,
    "start_time": "2025-05-02T15:05:56.498Z"
   },
   {
    "duration": 858,
    "start_time": "2025-05-02T15:05:56.619Z"
   },
   {
    "duration": 1635,
    "start_time": "2025-05-02T15:07:14.251Z"
   },
   {
    "duration": 52,
    "start_time": "2025-05-02T15:07:15.888Z"
   },
   {
    "duration": 11,
    "start_time": "2025-05-02T15:07:15.942Z"
   },
   {
    "duration": 23,
    "start_time": "2025-05-02T15:07:15.955Z"
   },
   {
    "duration": 11,
    "start_time": "2025-05-02T15:07:15.982Z"
   },
   {
    "duration": 18,
    "start_time": "2025-05-02T15:07:15.995Z"
   },
   {
    "duration": 11,
    "start_time": "2025-05-02T15:07:16.014Z"
   },
   {
    "duration": 8,
    "start_time": "2025-05-02T15:07:16.027Z"
   },
   {
    "duration": 7,
    "start_time": "2025-05-02T15:07:16.037Z"
   },
   {
    "duration": 12,
    "start_time": "2025-05-02T15:07:16.045Z"
   },
   {
    "duration": 10,
    "start_time": "2025-05-02T15:07:16.058Z"
   },
   {
    "duration": 381,
    "start_time": "2025-05-02T15:07:16.070Z"
   },
   {
    "duration": 413,
    "start_time": "2025-05-02T15:07:16.453Z"
   },
   {
    "duration": 203,
    "start_time": "2025-05-02T15:07:16.870Z"
   },
   {
    "duration": 363,
    "start_time": "2025-05-02T15:07:17.074Z"
   },
   {
    "duration": 5,
    "start_time": "2025-05-02T15:07:17.439Z"
   },
   {
    "duration": 21,
    "start_time": "2025-05-02T15:07:17.445Z"
   },
   {
    "duration": 4,
    "start_time": "2025-05-02T15:07:17.468Z"
   },
   {
    "duration": 4,
    "start_time": "2025-05-02T15:07:17.474Z"
   },
   {
    "duration": 21,
    "start_time": "2025-05-02T15:07:17.504Z"
   },
   {
    "duration": 5,
    "start_time": "2025-05-02T15:07:17.526Z"
   },
   {
    "duration": 6,
    "start_time": "2025-05-02T15:07:17.532Z"
   },
   {
    "duration": 4,
    "start_time": "2025-05-02T15:07:17.540Z"
   },
   {
    "duration": 5,
    "start_time": "2025-05-02T15:07:17.546Z"
   },
   {
    "duration": 2560,
    "start_time": "2025-05-02T15:07:17.553Z"
   },
   {
    "duration": 9,
    "start_time": "2025-05-02T15:07:20.205Z"
   },
   {
    "duration": 7,
    "start_time": "2025-05-02T15:07:20.305Z"
   },
   {
    "duration": 92,
    "start_time": "2025-05-02T15:07:20.314Z"
   },
   {
    "duration": 24,
    "start_time": "2025-05-02T15:07:20.407Z"
   },
   {
    "duration": 3,
    "start_time": "2025-05-02T15:07:20.433Z"
   },
   {
    "duration": 15103,
    "start_time": "2025-05-02T15:07:20.438Z"
   },
   {
    "duration": 33,
    "start_time": "2025-05-02T15:07:35.542Z"
   },
   {
    "duration": 3,
    "start_time": "2025-05-02T15:07:35.577Z"
   },
   {
    "duration": 31377,
    "start_time": "2025-05-02T15:07:35.605Z"
   },
   {
    "duration": 9,
    "start_time": "2025-05-02T15:08:06.984Z"
   },
   {
    "duration": 9,
    "start_time": "2025-05-02T15:08:06.994Z"
   },
   {
    "duration": 6,
    "start_time": "2025-05-02T15:08:07.005Z"
   },
   {
    "duration": 23,
    "start_time": "2025-05-02T15:08:07.012Z"
   },
   {
    "duration": 22,
    "start_time": "2025-05-02T15:08:07.036Z"
   },
   {
    "duration": 16,
    "start_time": "2025-05-02T15:08:07.061Z"
   },
   {
    "duration": 32,
    "start_time": "2025-05-02T15:08:07.082Z"
   },
   {
    "duration": 21,
    "start_time": "2025-05-02T15:08:07.115Z"
   },
   {
    "duration": 23,
    "start_time": "2025-05-02T15:08:07.138Z"
   },
   {
    "duration": 15,
    "start_time": "2025-05-02T15:08:07.163Z"
   },
   {
    "duration": 27,
    "start_time": "2025-05-02T15:08:07.181Z"
   },
   {
    "duration": 767,
    "start_time": "2025-05-02T15:08:07.210Z"
   },
   {
    "duration": 5,
    "start_time": "2025-05-02T15:09:22.649Z"
   },
   {
    "duration": 4,
    "start_time": "2025-05-02T15:09:23.148Z"
   },
   {
    "duration": 13,
    "start_time": "2025-05-02T15:09:23.855Z"
   },
   {
    "duration": 1677,
    "start_time": "2025-05-02T15:10:55.781Z"
   },
   {
    "duration": 46,
    "start_time": "2025-05-02T15:10:57.461Z"
   },
   {
    "duration": 15,
    "start_time": "2025-05-02T15:10:57.509Z"
   },
   {
    "duration": 18,
    "start_time": "2025-05-02T15:10:57.526Z"
   },
   {
    "duration": 9,
    "start_time": "2025-05-02T15:10:57.546Z"
   },
   {
    "duration": 12,
    "start_time": "2025-05-02T15:10:57.558Z"
   },
   {
    "duration": 42,
    "start_time": "2025-05-02T15:10:57.572Z"
   },
   {
    "duration": 27,
    "start_time": "2025-05-02T15:10:57.616Z"
   },
   {
    "duration": 8,
    "start_time": "2025-05-02T15:10:57.645Z"
   },
   {
    "duration": 4,
    "start_time": "2025-05-02T15:10:57.656Z"
   },
   {
    "duration": 9,
    "start_time": "2025-05-02T15:10:57.662Z"
   },
   {
    "duration": 384,
    "start_time": "2025-05-02T15:10:57.673Z"
   },
   {
    "duration": 454,
    "start_time": "2025-05-02T15:10:58.059Z"
   },
   {
    "duration": 225,
    "start_time": "2025-05-02T15:10:58.514Z"
   },
   {
    "duration": 385,
    "start_time": "2025-05-02T15:10:58.740Z"
   },
   {
    "duration": 5,
    "start_time": "2025-05-02T15:10:59.127Z"
   },
   {
    "duration": 33,
    "start_time": "2025-05-02T15:10:59.134Z"
   },
   {
    "duration": 5,
    "start_time": "2025-05-02T15:10:59.169Z"
   },
   {
    "duration": 31,
    "start_time": "2025-05-02T15:10:59.177Z"
   },
   {
    "duration": 18,
    "start_time": "2025-05-02T15:10:59.210Z"
   },
   {
    "duration": 8,
    "start_time": "2025-05-02T15:10:59.230Z"
   },
   {
    "duration": 8,
    "start_time": "2025-05-02T15:10:59.240Z"
   },
   {
    "duration": 92,
    "start_time": "2025-05-02T15:10:59.249Z"
   },
   {
    "duration": 6,
    "start_time": "2025-05-02T15:10:59.342Z"
   },
   {
    "duration": 2558,
    "start_time": "2025-05-02T15:10:59.350Z"
   },
   {
    "duration": 102,
    "start_time": "2025-05-02T15:11:01.910Z"
   },
   {
    "duration": 190,
    "start_time": "2025-05-02T15:11:02.015Z"
   },
   {
    "duration": 14,
    "start_time": "2025-05-02T15:11:02.210Z"
   },
   {
    "duration": 36,
    "start_time": "2025-05-02T15:11:02.225Z"
   },
   {
    "duration": 46,
    "start_time": "2025-05-02T15:11:02.263Z"
   },
   {
    "duration": 15242,
    "start_time": "2025-05-02T15:11:02.311Z"
   },
   {
    "duration": 38,
    "start_time": "2025-05-02T15:11:17.554Z"
   },
   {
    "duration": 7,
    "start_time": "2025-05-02T15:11:17.606Z"
   },
   {
    "duration": 30749,
    "start_time": "2025-05-02T15:11:17.615Z"
   },
   {
    "duration": 8,
    "start_time": "2025-05-02T15:11:48.365Z"
   },
   {
    "duration": 3,
    "start_time": "2025-05-02T15:11:48.374Z"
   },
   {
    "duration": 7,
    "start_time": "2025-05-02T15:11:48.378Z"
   },
   {
    "duration": 20,
    "start_time": "2025-05-02T15:11:48.386Z"
   },
   {
    "duration": 4,
    "start_time": "2025-05-02T15:11:48.408Z"
   },
   {
    "duration": 17,
    "start_time": "2025-05-02T15:11:48.413Z"
   },
   {
    "duration": 64,
    "start_time": "2025-05-02T15:11:48.431Z"
   },
   {
    "duration": 23,
    "start_time": "2025-05-02T15:11:48.497Z"
   },
   {
    "duration": 77,
    "start_time": "2025-05-02T15:11:48.522Z"
   },
   {
    "duration": 21,
    "start_time": "2025-05-02T15:11:48.601Z"
   },
   {
    "duration": 19,
    "start_time": "2025-05-02T15:11:48.623Z"
   },
   {
    "duration": 705,
    "start_time": "2025-05-02T15:11:48.644Z"
   },
   {
    "duration": 586,
    "start_time": "2025-05-02T15:13:03.281Z"
   },
   {
    "duration": 3131,
    "start_time": "2025-05-02T15:34:23.819Z"
   },
   {
    "duration": 43,
    "start_time": "2025-05-02T15:34:26.952Z"
   },
   {
    "duration": 31,
    "start_time": "2025-05-02T15:34:26.997Z"
   },
   {
    "duration": 10,
    "start_time": "2025-05-02T15:34:27.030Z"
   },
   {
    "duration": 4,
    "start_time": "2025-05-02T15:34:27.043Z"
   },
   {
    "duration": 33,
    "start_time": "2025-05-02T15:34:27.049Z"
   },
   {
    "duration": 11,
    "start_time": "2025-05-02T15:34:27.085Z"
   },
   {
    "duration": 21,
    "start_time": "2025-05-02T15:34:27.098Z"
   },
   {
    "duration": 7,
    "start_time": "2025-05-02T15:34:27.121Z"
   },
   {
    "duration": 5,
    "start_time": "2025-05-02T15:34:27.129Z"
   },
   {
    "duration": 8,
    "start_time": "2025-05-02T15:34:27.135Z"
   },
   {
    "duration": 407,
    "start_time": "2025-05-02T15:34:27.144Z"
   },
   {
    "duration": 428,
    "start_time": "2025-05-02T15:34:27.552Z"
   },
   {
    "duration": 239,
    "start_time": "2025-05-02T15:34:27.982Z"
   },
   {
    "duration": 373,
    "start_time": "2025-05-02T15:34:28.223Z"
   },
   {
    "duration": 10,
    "start_time": "2025-05-02T15:34:28.598Z"
   },
   {
    "duration": 488,
    "start_time": "2025-05-02T15:34:28.610Z"
   },
   {
    "duration": 4,
    "start_time": "2025-05-02T20:03:55.756Z"
   },
   {
    "duration": 7,
    "start_time": "2025-05-02T20:20:31.370Z"
   },
   {
    "duration": 7,
    "start_time": "2025-05-02T20:20:50.670Z"
   },
   {
    "duration": 359,
    "start_time": "2025-05-02T20:21:05.636Z"
   },
   {
    "duration": 417,
    "start_time": "2025-05-02T20:21:23.607Z"
   },
   {
    "duration": 205,
    "start_time": "2025-05-02T20:21:35.534Z"
   },
   {
    "duration": 178,
    "start_time": "2025-05-02T20:21:49.253Z"
   },
   {
    "duration": 198,
    "start_time": "2025-05-02T20:23:01.383Z"
   },
   {
    "duration": 8,
    "start_time": "2025-05-02T20:23:17.635Z"
   },
   {
    "duration": 323,
    "start_time": "2025-05-02T20:23:24.063Z"
   },
   {
    "duration": 319,
    "start_time": "2025-05-02T20:23:30.939Z"
   },
   {
    "duration": 203,
    "start_time": "2025-05-02T20:23:36.174Z"
   },
   {
    "duration": 7,
    "start_time": "2025-05-02T20:24:15.827Z"
   },
   {
    "duration": 319,
    "start_time": "2025-05-02T20:24:16.544Z"
   },
   {
    "duration": 322,
    "start_time": "2025-05-02T20:24:19.496Z"
   },
   {
    "duration": 313,
    "start_time": "2025-05-02T20:24:48.424Z"
   },
   {
    "duration": 210,
    "start_time": "2025-05-02T20:24:57.343Z"
   },
   {
    "duration": 352,
    "start_time": "2025-05-02T20:25:09.273Z"
   },
   {
    "duration": 643,
    "start_time": "2025-05-02T20:29:02.061Z"
   },
   {
    "duration": 505,
    "start_time": "2025-05-02T20:29:21.208Z"
   },
   {
    "duration": 476,
    "start_time": "2025-05-02T20:29:52.944Z"
   },
   {
    "duration": 196,
    "start_time": "2025-05-02T20:30:05.794Z"
   },
   {
    "duration": 311,
    "start_time": "2025-05-02T20:30:25.075Z"
   },
   {
    "duration": 5,
    "start_time": "2025-05-02T20:39:29.140Z"
   },
   {
    "duration": 17,
    "start_time": "2025-05-02T20:43:20.125Z"
   },
   {
    "duration": 5,
    "start_time": "2025-05-02T20:43:20.675Z"
   },
   {
    "duration": 4,
    "start_time": "2025-05-02T20:43:21.221Z"
   },
   {
    "duration": 18,
    "start_time": "2025-05-02T20:43:23.036Z"
   },
   {
    "duration": 1470,
    "start_time": "2025-05-02T20:45:39.758Z"
   },
   {
    "duration": 1425,
    "start_time": "2025-05-02T20:46:31.738Z"
   },
   {
    "duration": 4,
    "start_time": "2025-05-02T20:46:53.693Z"
   },
   {
    "duration": 6,
    "start_time": "2025-05-02T20:46:54.316Z"
   },
   {
    "duration": 2989,
    "start_time": "2025-05-02T20:47:23.214Z"
   },
   {
    "duration": 9,
    "start_time": "2025-05-02T20:47:33.009Z"
   },
   {
    "duration": 3,
    "start_time": "2025-05-02T20:47:38.898Z"
   },
   {
    "duration": 2,
    "start_time": "2025-05-02T20:47:42.558Z"
   },
   {
    "duration": 3,
    "start_time": "2025-05-02T20:47:44.748Z"
   },
   {
    "duration": 3,
    "start_time": "2025-05-02T20:47:46.634Z"
   },
   {
    "duration": 21305,
    "start_time": "2025-05-02T20:47:47.850Z"
   },
   {
    "duration": 55,
    "start_time": "2025-05-02T20:48:15.694Z"
   },
   {
    "duration": 2,
    "start_time": "2025-05-02T20:48:17.184Z"
   },
   {
    "duration": 40522,
    "start_time": "2025-05-02T20:48:30.442Z"
   },
   {
    "duration": 12,
    "start_time": "2025-05-02T20:49:29.408Z"
   },
   {
    "duration": 3,
    "start_time": "2025-05-02T20:49:33.591Z"
   },
   {
    "duration": 4,
    "start_time": "2025-05-02T20:49:37.993Z"
   },
   {
    "duration": 16,
    "start_time": "2025-05-02T20:49:39.412Z"
   },
   {
    "duration": 2,
    "start_time": "2025-05-02T20:50:25.788Z"
   },
   {
    "duration": 7,
    "start_time": "2025-05-02T20:50:29.915Z"
   },
   {
    "duration": 4,
    "start_time": "2025-05-02T20:50:35.533Z"
   },
   {
    "duration": 20,
    "start_time": "2025-05-02T20:50:37.985Z"
   },
   {
    "duration": 7,
    "start_time": "2025-05-02T20:50:40.750Z"
   },
   {
    "duration": 5,
    "start_time": "2025-05-02T20:50:41.970Z"
   },
   {
    "duration": 16,
    "start_time": "2025-05-02T20:50:43.357Z"
   },
   {
    "duration": 1553,
    "start_time": "2025-05-02T20:50:59.332Z"
   },
   {
    "duration": 41,
    "start_time": "2025-05-02T20:51:00.887Z"
   },
   {
    "duration": 11,
    "start_time": "2025-05-02T20:51:00.929Z"
   },
   {
    "duration": 23,
    "start_time": "2025-05-02T20:51:00.942Z"
   },
   {
    "duration": 5,
    "start_time": "2025-05-02T20:51:00.967Z"
   },
   {
    "duration": 25,
    "start_time": "2025-05-02T20:51:00.973Z"
   },
   {
    "duration": 11,
    "start_time": "2025-05-02T20:51:01.003Z"
   },
   {
    "duration": 13,
    "start_time": "2025-05-02T20:51:01.016Z"
   },
   {
    "duration": 7,
    "start_time": "2025-05-02T20:51:01.031Z"
   },
   {
    "duration": 17,
    "start_time": "2025-05-02T20:51:01.039Z"
   },
   {
    "duration": 25,
    "start_time": "2025-05-02T20:51:01.058Z"
   },
   {
    "duration": 360,
    "start_time": "2025-05-02T20:51:01.085Z"
   },
   {
    "duration": 414,
    "start_time": "2025-05-02T20:51:01.447Z"
   },
   {
    "duration": 215,
    "start_time": "2025-05-02T20:51:01.864Z"
   },
   {
    "duration": 358,
    "start_time": "2025-05-02T20:51:02.080Z"
   },
   {
    "duration": 7,
    "start_time": "2025-05-02T20:51:02.440Z"
   },
   {
    "duration": 30,
    "start_time": "2025-05-02T20:51:02.449Z"
   },
   {
    "duration": 324,
    "start_time": "2025-05-02T20:51:02.481Z"
   },
   {
    "duration": 324,
    "start_time": "2025-05-02T20:51:02.807Z"
   },
   {
    "duration": 515,
    "start_time": "2025-05-02T20:51:03.133Z"
   },
   {
    "duration": 329,
    "start_time": "2025-05-02T20:51:03.649Z"
   },
   {
    "duration": 5,
    "start_time": "2025-05-02T20:51:03.980Z"
   },
   {
    "duration": 457,
    "start_time": "2025-05-02T20:51:03.987Z"
   },
   {
    "duration": 18,
    "start_time": "2025-05-02T20:51:04.445Z"
   },
   {
    "duration": 3,
    "start_time": "2025-05-02T20:51:04.465Z"
   },
   {
    "duration": 5,
    "start_time": "2025-05-02T20:51:04.470Z"
   },
   {
    "duration": 51,
    "start_time": "2025-05-02T20:51:04.476Z"
   },
   {
    "duration": 1708,
    "start_time": "2025-05-02T20:51:04.529Z"
   },
   {
    "duration": 5,
    "start_time": "2025-05-02T20:51:06.238Z"
   },
   {
    "duration": 42,
    "start_time": "2025-05-02T20:51:06.244Z"
   },
   {
    "duration": 15,
    "start_time": "2025-05-02T20:51:06.287Z"
   },
   {
    "duration": 29,
    "start_time": "2025-05-02T20:51:06.304Z"
   },
   {
    "duration": 2369,
    "start_time": "2025-05-02T20:51:06.335Z"
   },
   {
    "duration": 13,
    "start_time": "2025-05-02T20:51:08.706Z"
   },
   {
    "duration": 3,
    "start_time": "2025-05-02T20:51:08.805Z"
   },
   {
    "duration": 6,
    "start_time": "2025-05-02T20:51:08.811Z"
   },
   {
    "duration": 94,
    "start_time": "2025-05-02T20:51:08.818Z"
   },
   {
    "duration": 4,
    "start_time": "2025-05-02T20:51:08.914Z"
   },
   {
    "duration": 21845,
    "start_time": "2025-05-02T20:51:08.920Z"
   },
   {
    "duration": 65,
    "start_time": "2025-05-02T20:51:30.767Z"
   },
   {
    "duration": 3,
    "start_time": "2025-05-02T20:51:30.836Z"
   },
   {
    "duration": 40348,
    "start_time": "2025-05-02T20:51:30.841Z"
   },
   {
    "duration": 12,
    "start_time": "2025-05-02T20:52:11.191Z"
   },
   {
    "duration": 75,
    "start_time": "2025-05-02T20:52:11.205Z"
   },
   {
    "duration": 7,
    "start_time": "2025-05-02T20:52:11.281Z"
   },
   {
    "duration": 16,
    "start_time": "2025-05-02T20:52:11.290Z"
   },
   {
    "duration": 3,
    "start_time": "2025-05-02T20:52:11.308Z"
   },
   {
    "duration": 12,
    "start_time": "2025-05-02T20:52:11.313Z"
   },
   {
    "duration": 3,
    "start_time": "2025-05-02T20:52:11.327Z"
   },
   {
    "duration": 69,
    "start_time": "2025-05-02T20:52:11.332Z"
   },
   {
    "duration": 8,
    "start_time": "2025-05-02T20:52:11.403Z"
   },
   {
    "duration": 5,
    "start_time": "2025-05-02T20:52:11.413Z"
   },
   {
    "duration": 14,
    "start_time": "2025-05-02T20:52:11.420Z"
   },
   {
    "duration": 739,
    "start_time": "2025-05-02T20:52:11.436Z"
   },
   {
    "duration": 21,
    "start_time": "2025-05-02T20:54:31.579Z"
   },
   {
    "duration": 669,
    "start_time": "2025-05-02T20:56:09.192Z"
   },
   {
    "duration": 1617,
    "start_time": "2025-05-02T20:58:08.599Z"
   },
   {
    "duration": 42,
    "start_time": "2025-05-02T20:58:10.218Z"
   },
   {
    "duration": 11,
    "start_time": "2025-05-02T20:58:10.262Z"
   },
   {
    "duration": 10,
    "start_time": "2025-05-02T20:58:10.275Z"
   },
   {
    "duration": 17,
    "start_time": "2025-05-02T20:58:10.288Z"
   },
   {
    "duration": 11,
    "start_time": "2025-05-02T20:58:10.307Z"
   },
   {
    "duration": 26,
    "start_time": "2025-05-02T20:58:10.320Z"
   },
   {
    "duration": 12,
    "start_time": "2025-05-02T20:58:10.348Z"
   },
   {
    "duration": 68,
    "start_time": "2025-05-02T20:58:10.362Z"
   },
   {
    "duration": 38,
    "start_time": "2025-05-02T20:58:10.432Z"
   },
   {
    "duration": 9,
    "start_time": "2025-05-02T20:58:10.472Z"
   },
   {
    "duration": 353,
    "start_time": "2025-05-02T20:58:10.483Z"
   },
   {
    "duration": 407,
    "start_time": "2025-05-02T20:58:10.838Z"
   },
   {
    "duration": 206,
    "start_time": "2025-05-02T20:58:11.248Z"
   },
   {
    "duration": 354,
    "start_time": "2025-05-02T20:58:11.456Z"
   },
   {
    "duration": 7,
    "start_time": "2025-05-02T20:58:11.811Z"
   },
   {
    "duration": 6,
    "start_time": "2025-05-02T20:58:11.820Z"
   },
   {
    "duration": 318,
    "start_time": "2025-05-02T20:58:11.827Z"
   },
   {
    "duration": 315,
    "start_time": "2025-05-02T20:58:12.147Z"
   },
   {
    "duration": 546,
    "start_time": "2025-05-02T20:58:12.465Z"
   },
   {
    "duration": 331,
    "start_time": "2025-05-02T20:58:13.013Z"
   },
   {
    "duration": 4,
    "start_time": "2025-05-02T20:58:13.346Z"
   },
   {
    "duration": 400,
    "start_time": "2025-05-02T20:58:13.352Z"
   },
   {
    "duration": 18,
    "start_time": "2025-05-02T20:58:13.754Z"
   },
   {
    "duration": 6,
    "start_time": "2025-05-02T20:58:13.774Z"
   },
   {
    "duration": 24,
    "start_time": "2025-05-02T20:58:13.781Z"
   },
   {
    "duration": 18,
    "start_time": "2025-05-02T20:58:13.807Z"
   },
   {
    "duration": 1614,
    "start_time": "2025-05-02T20:58:13.827Z"
   },
   {
    "duration": 4,
    "start_time": "2025-05-02T20:58:15.443Z"
   },
   {
    "duration": 13,
    "start_time": "2025-05-02T20:58:15.449Z"
   },
   {
    "duration": 4,
    "start_time": "2025-05-02T20:58:15.466Z"
   },
   {
    "duration": 29,
    "start_time": "2025-05-02T20:58:15.472Z"
   },
   {
    "duration": 2207,
    "start_time": "2025-05-02T20:58:15.503Z"
   },
   {
    "duration": 14,
    "start_time": "2025-05-02T20:58:17.803Z"
   },
   {
    "duration": 4,
    "start_time": "2025-05-02T20:58:17.906Z"
   },
   {
    "duration": 92,
    "start_time": "2025-05-02T20:58:17.912Z"
   },
   {
    "duration": 59,
    "start_time": "2025-05-02T20:58:18.006Z"
   },
   {
    "duration": 14,
    "start_time": "2025-05-02T20:58:18.067Z"
   },
   {
    "duration": 20748,
    "start_time": "2025-05-02T20:58:18.083Z"
   },
   {
    "duration": 54,
    "start_time": "2025-05-02T20:58:38.833Z"
   },
   {
    "duration": 3,
    "start_time": "2025-05-02T20:58:38.904Z"
   },
   {
    "duration": 40607,
    "start_time": "2025-05-02T20:58:38.909Z"
   },
   {
    "duration": 10,
    "start_time": "2025-05-02T20:59:19.518Z"
   },
   {
    "duration": 3,
    "start_time": "2025-05-02T20:59:19.529Z"
   },
   {
    "duration": 5,
    "start_time": "2025-05-02T20:59:19.534Z"
   },
   {
    "duration": 14,
    "start_time": "2025-05-02T20:59:19.541Z"
   },
   {
    "duration": 48,
    "start_time": "2025-05-02T20:59:19.557Z"
   },
   {
    "duration": 710,
    "start_time": "2025-05-02T20:59:19.607Z"
   },
   {
    "duration": 465,
    "start_time": "2025-05-02T21:14:47.900Z"
   },
   {
    "duration": 5,
    "start_time": "2025-05-02T21:15:31.000Z"
   },
   {
    "duration": 1600,
    "start_time": "2025-05-02T21:15:36.364Z"
   },
   {
    "duration": 41,
    "start_time": "2025-05-02T21:15:37.966Z"
   },
   {
    "duration": 11,
    "start_time": "2025-05-02T21:15:38.008Z"
   },
   {
    "duration": 172,
    "start_time": "2025-05-02T21:15:38.020Z"
   },
   {
    "duration": 6,
    "start_time": "2025-05-02T21:15:38.195Z"
   },
   {
    "duration": 16,
    "start_time": "2025-05-02T21:15:38.203Z"
   },
   {
    "duration": 28,
    "start_time": "2025-05-02T21:15:38.221Z"
   },
   {
    "duration": 9,
    "start_time": "2025-05-02T21:15:38.251Z"
   },
   {
    "duration": 8,
    "start_time": "2025-05-02T21:15:38.262Z"
   },
   {
    "duration": 4,
    "start_time": "2025-05-02T21:15:38.271Z"
   },
   {
    "duration": 30,
    "start_time": "2025-05-02T21:15:38.277Z"
   },
   {
    "duration": 351,
    "start_time": "2025-05-02T21:15:38.309Z"
   },
   {
    "duration": 398,
    "start_time": "2025-05-02T21:15:38.662Z"
   },
   {
    "duration": 203,
    "start_time": "2025-05-02T21:15:39.064Z"
   },
   {
    "duration": 340,
    "start_time": "2025-05-02T21:15:39.269Z"
   },
   {
    "duration": 8,
    "start_time": "2025-05-02T21:15:39.611Z"
   },
   {
    "duration": 7,
    "start_time": "2025-05-02T21:15:39.621Z"
   },
   {
    "duration": 315,
    "start_time": "2025-05-02T21:15:39.630Z"
   },
   {
    "duration": 498,
    "start_time": "2025-05-02T21:15:39.948Z"
   },
   {
    "duration": 960,
    "start_time": "2025-05-02T21:15:40.447Z"
   },
   {
    "duration": 474,
    "start_time": "2025-05-02T21:15:41.409Z"
   },
   {
    "duration": 4,
    "start_time": "2025-05-02T21:15:41.885Z"
   },
   {
    "duration": 419,
    "start_time": "2025-05-02T21:15:41.891Z"
   },
   {
    "duration": 17,
    "start_time": "2025-05-02T21:15:42.312Z"
   },
   {
    "duration": 4,
    "start_time": "2025-05-02T21:15:42.331Z"
   },
   {
    "duration": 5,
    "start_time": "2025-05-02T21:15:42.337Z"
   },
   {
    "duration": 19,
    "start_time": "2025-05-02T21:15:42.344Z"
   },
   {
    "duration": 1604,
    "start_time": "2025-05-02T21:15:42.365Z"
   },
   {
    "duration": 4,
    "start_time": "2025-05-02T21:15:43.971Z"
   },
   {
    "duration": 13,
    "start_time": "2025-05-02T21:15:43.977Z"
   },
   {
    "duration": 3,
    "start_time": "2025-05-02T21:15:43.992Z"
   },
   {
    "duration": 4,
    "start_time": "2025-05-02T21:15:43.997Z"
   },
   {
    "duration": 2502,
    "start_time": "2025-05-02T21:15:44.003Z"
   },
   {
    "duration": 105,
    "start_time": "2025-05-02T21:15:46.507Z"
   },
   {
    "duration": 4,
    "start_time": "2025-05-02T21:15:46.707Z"
   },
   {
    "duration": 7,
    "start_time": "2025-05-02T21:15:46.713Z"
   },
   {
    "duration": 7,
    "start_time": "2025-05-02T21:15:46.722Z"
   },
   {
    "duration": 73,
    "start_time": "2025-05-02T21:15:46.731Z"
   },
   {
    "duration": 19708,
    "start_time": "2025-05-02T21:15:46.806Z"
   },
   {
    "duration": 37,
    "start_time": "2025-05-02T21:16:06.516Z"
   },
   {
    "duration": 24,
    "start_time": "2025-05-02T21:16:06.556Z"
   },
   {
    "duration": 36609,
    "start_time": "2025-05-02T21:16:06.603Z"
   },
   {
    "duration": 10,
    "start_time": "2025-05-02T21:16:43.214Z"
   },
   {
    "duration": 3,
    "start_time": "2025-05-02T21:16:43.226Z"
   },
   {
    "duration": 18,
    "start_time": "2025-05-02T21:16:43.230Z"
   },
   {
    "duration": 20,
    "start_time": "2025-05-02T21:16:43.250Z"
   },
   {
    "duration": 38,
    "start_time": "2025-05-02T21:16:43.272Z"
   },
   {
    "duration": 502,
    "start_time": "2025-05-02T21:16:43.311Z"
   },
   {
    "duration": 553,
    "start_time": "2025-05-02T21:17:19.085Z"
   },
   {
    "duration": 1493,
    "start_time": "2025-05-02T21:18:25.714Z"
   },
   {
    "duration": 41,
    "start_time": "2025-05-02T21:18:27.209Z"
   },
   {
    "duration": 11,
    "start_time": "2025-05-02T21:18:27.252Z"
   },
   {
    "duration": 11,
    "start_time": "2025-05-02T21:18:27.265Z"
   },
   {
    "duration": 4,
    "start_time": "2025-05-02T21:18:27.278Z"
   },
   {
    "duration": 27,
    "start_time": "2025-05-02T21:18:27.284Z"
   },
   {
    "duration": 11,
    "start_time": "2025-05-02T21:18:27.312Z"
   },
   {
    "duration": 9,
    "start_time": "2025-05-02T21:18:27.324Z"
   },
   {
    "duration": 11,
    "start_time": "2025-05-02T21:18:27.334Z"
   },
   {
    "duration": 6,
    "start_time": "2025-05-02T21:18:27.348Z"
   },
   {
    "duration": 19,
    "start_time": "2025-05-02T21:18:27.356Z"
   },
   {
    "duration": 379,
    "start_time": "2025-05-02T21:18:27.376Z"
   },
   {
    "duration": 406,
    "start_time": "2025-05-02T21:18:27.756Z"
   },
   {
    "duration": 233,
    "start_time": "2025-05-02T21:18:28.164Z"
   },
   {
    "duration": 353,
    "start_time": "2025-05-02T21:18:28.400Z"
   },
   {
    "duration": 7,
    "start_time": "2025-05-02T21:18:28.755Z"
   },
   {
    "duration": 17,
    "start_time": "2025-05-02T21:18:28.763Z"
   },
   {
    "duration": 301,
    "start_time": "2025-05-02T21:18:28.782Z"
   },
   {
    "duration": 297,
    "start_time": "2025-05-02T21:18:29.085Z"
   },
   {
    "duration": 508,
    "start_time": "2025-05-02T21:18:29.384Z"
   },
   {
    "duration": 301,
    "start_time": "2025-05-02T21:18:29.893Z"
   },
   {
    "duration": 5,
    "start_time": "2025-05-02T21:18:30.203Z"
   },
   {
    "duration": 523,
    "start_time": "2025-05-02T21:18:30.209Z"
   },
   {
    "duration": 18,
    "start_time": "2025-05-02T21:18:30.734Z"
   },
   {
    "duration": 4,
    "start_time": "2025-05-02T21:18:30.754Z"
   },
   {
    "duration": 8,
    "start_time": "2025-05-02T21:18:30.759Z"
   },
   {
    "duration": 38,
    "start_time": "2025-05-02T21:18:30.768Z"
   },
   {
    "duration": 1555,
    "start_time": "2025-05-02T21:18:30.810Z"
   },
   {
    "duration": 5,
    "start_time": "2025-05-02T21:18:32.366Z"
   },
   {
    "duration": 9,
    "start_time": "2025-05-02T21:18:32.373Z"
   },
   {
    "duration": 3,
    "start_time": "2025-05-02T21:18:32.384Z"
   },
   {
    "duration": 6,
    "start_time": "2025-05-02T21:18:32.388Z"
   },
   {
    "duration": 2609,
    "start_time": "2025-05-02T21:18:32.396Z"
   },
   {
    "duration": 101,
    "start_time": "2025-05-02T21:18:35.008Z"
   },
   {
    "duration": 93,
    "start_time": "2025-05-02T21:18:35.111Z"
   },
   {
    "duration": 12,
    "start_time": "2025-05-02T21:18:35.206Z"
   },
   {
    "duration": 10,
    "start_time": "2025-05-02T21:18:35.220Z"
   },
   {
    "duration": 26,
    "start_time": "2025-05-02T21:18:35.231Z"
   },
   {
    "duration": 19719,
    "start_time": "2025-05-02T21:18:35.303Z"
   },
   {
    "duration": 39,
    "start_time": "2025-05-02T21:18:55.024Z"
   },
   {
    "duration": 3,
    "start_time": "2025-05-02T21:18:55.065Z"
   },
   {
    "duration": 36554,
    "start_time": "2025-05-02T21:18:55.070Z"
   },
   {
    "duration": 9,
    "start_time": "2025-05-02T21:19:31.626Z"
   },
   {
    "duration": 15,
    "start_time": "2025-05-02T21:19:31.637Z"
   },
   {
    "duration": 6,
    "start_time": "2025-05-02T21:19:31.654Z"
   },
   {
    "duration": 17,
    "start_time": "2025-05-02T21:19:31.662Z"
   },
   {
    "duration": 24,
    "start_time": "2025-05-02T21:19:31.681Z"
   },
   {
    "duration": 639,
    "start_time": "2025-05-02T21:19:31.706Z"
   },
   {
    "duration": 1475,
    "start_time": "2025-05-02T21:22:47.826Z"
   },
   {
    "duration": 41,
    "start_time": "2025-05-02T21:22:49.303Z"
   },
   {
    "duration": 10,
    "start_time": "2025-05-02T21:22:49.346Z"
   },
   {
    "duration": 10,
    "start_time": "2025-05-02T21:22:49.358Z"
   },
   {
    "duration": 7,
    "start_time": "2025-05-02T21:22:49.369Z"
   },
   {
    "duration": 27,
    "start_time": "2025-05-02T21:22:49.377Z"
   },
   {
    "duration": 10,
    "start_time": "2025-05-02T21:22:49.406Z"
   },
   {
    "duration": 8,
    "start_time": "2025-05-02T21:22:49.418Z"
   },
   {
    "duration": 7,
    "start_time": "2025-05-02T21:22:49.427Z"
   },
   {
    "duration": 3,
    "start_time": "2025-05-02T21:22:49.437Z"
   },
   {
    "duration": 8,
    "start_time": "2025-05-02T21:22:49.442Z"
   },
   {
    "duration": 364,
    "start_time": "2025-05-02T21:22:49.452Z"
   },
   {
    "duration": 391,
    "start_time": "2025-05-02T21:22:49.817Z"
   },
   {
    "duration": 206,
    "start_time": "2025-05-02T21:22:50.209Z"
   },
   {
    "duration": 325,
    "start_time": "2025-05-02T21:22:50.417Z"
   },
   {
    "duration": 7,
    "start_time": "2025-05-02T21:22:50.744Z"
   },
   {
    "duration": 8,
    "start_time": "2025-05-02T21:22:50.752Z"
   },
   {
    "duration": 292,
    "start_time": "2025-05-02T21:22:50.762Z"
   },
   {
    "duration": 281,
    "start_time": "2025-05-02T21:22:51.056Z"
   },
   {
    "duration": 474,
    "start_time": "2025-05-02T21:22:51.339Z"
   },
   {
    "duration": 294,
    "start_time": "2025-05-02T21:22:51.815Z"
   },
   {
    "duration": 6,
    "start_time": "2025-05-02T21:22:52.111Z"
   },
   {
    "duration": 416,
    "start_time": "2025-05-02T21:22:52.118Z"
   },
   {
    "duration": 17,
    "start_time": "2025-05-02T21:22:52.536Z"
   },
   {
    "duration": 96,
    "start_time": "2025-05-02T21:22:52.555Z"
   },
   {
    "duration": 14,
    "start_time": "2025-05-02T21:22:52.653Z"
   },
   {
    "duration": 21,
    "start_time": "2025-05-02T21:22:52.669Z"
   },
   {
    "duration": 1538,
    "start_time": "2025-05-02T21:22:52.694Z"
   },
   {
    "duration": 4,
    "start_time": "2025-05-02T21:22:54.234Z"
   },
   {
    "duration": 9,
    "start_time": "2025-05-02T21:22:54.239Z"
   },
   {
    "duration": 4,
    "start_time": "2025-05-02T21:22:54.250Z"
   },
   {
    "duration": 34,
    "start_time": "2025-05-02T21:22:54.256Z"
   },
   {
    "duration": 2515,
    "start_time": "2025-05-02T21:22:54.292Z"
   },
   {
    "duration": 106,
    "start_time": "2025-05-02T21:22:56.809Z"
   },
   {
    "duration": 94,
    "start_time": "2025-05-02T21:22:57.012Z"
   },
   {
    "duration": 16,
    "start_time": "2025-05-02T21:22:57.107Z"
   },
   {
    "duration": 23,
    "start_time": "2025-05-02T21:22:57.125Z"
   },
   {
    "duration": 4,
    "start_time": "2025-05-02T21:22:57.150Z"
   },
   {
    "duration": 19054,
    "start_time": "2025-05-02T21:22:57.155Z"
   },
   {
    "duration": 36,
    "start_time": "2025-05-02T21:23:16.211Z"
   },
   {
    "duration": 2,
    "start_time": "2025-05-02T21:23:16.249Z"
   },
   {
    "duration": 37028,
    "start_time": "2025-05-02T21:23:16.253Z"
   },
   {
    "duration": 9,
    "start_time": "2025-05-02T21:23:53.283Z"
   },
   {
    "duration": 5,
    "start_time": "2025-05-02T21:23:53.294Z"
   },
   {
    "duration": 9,
    "start_time": "2025-05-02T21:23:53.300Z"
   },
   {
    "duration": 19,
    "start_time": "2025-05-02T21:23:53.310Z"
   },
   {
    "duration": 104,
    "start_time": "2025-05-02T21:23:53.330Z"
   },
   {
    "duration": 654,
    "start_time": "2025-05-02T21:23:53.436Z"
   }
  ],
  "kernelspec": {
   "display_name": "Python 3 (ipykernel)",
   "language": "python",
   "name": "python3"
  },
  "language_info": {
   "codemirror_mode": {
    "name": "ipython",
    "version": 3
   },
   "file_extension": ".py",
   "mimetype": "text/x-python",
   "name": "python",
   "nbconvert_exporter": "python",
   "pygments_lexer": "ipython3",
   "version": "3.9.5"
  },
  "toc": {
   "base_numbering": 1,
   "nav_menu": {},
   "number_sections": true,
   "sideBar": true,
   "skip_h1_title": true,
   "title_cell": "Содержание",
   "title_sidebar": "Contents",
   "toc_cell": true,
   "toc_position": {
    "height": "calc(100% - 180px)",
    "left": "10px",
    "top": "150px",
    "width": "324.792px"
   },
   "toc_section_display": true,
   "toc_window_display": false
  }
 },
 "nbformat": 4,
 "nbformat_minor": 2
}
